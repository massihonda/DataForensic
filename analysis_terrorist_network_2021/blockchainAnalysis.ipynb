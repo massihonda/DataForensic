{
 "cells": [
  {
   "cell_type": "code",
   "execution_count": 1,
   "metadata": {},
   "outputs": [],
   "source": [
    "import requests\n",
    "import pandas as pd\n",
    "import time"
   ]
  },
  {
   "cell_type": "code",
   "execution_count": null,
   "metadata": {},
   "outputs": [],
   "source": [
    "# Get information about the adress of interest through blockchain API"
   ]
  },
  {
   "cell_type": "code",
   "execution_count": 26,
   "metadata": {},
   "outputs": [],
   "source": [
    "ego = '17QAWGVpFV4gZ25NQug46e5mBho4uDP6MD'"
   ]
  },
  {
   "cell_type": "code",
   "execution_count": 2,
   "metadata": {},
   "outputs": [],
   "source": [
    "r =requests.get('https://blockchain.info/rawaddr/17QAWGVpFV4gZ25NQug46e5mBho4uDP6MD')"
   ]
  },
  {
   "cell_type": "code",
   "execution_count": 3,
   "metadata": {},
   "outputs": [],
   "source": [
    "# represent the inormation in json format\n",
    "r_js = r.json()\n",
    "\n",
    "# information about the transactions of this account\n",
    "transaction_ego = r_js['txs']"
   ]
  },
  {
   "cell_type": "code",
   "execution_count": 4,
   "metadata": {},
   "outputs": [],
   "source": [
    "def create_receiver_list(transaction_ego):\n",
    "    receiver_addresses = list()\n",
    "    issues_receiver = list()\n",
    "    amount = list()\n",
    "    for j in range(len(transaction_ego)):\n",
    "        receiver_addresses.append([])\n",
    "        amount.append([])\n",
    "        for i in range(len(transaction_ego[j]['out'])):\n",
    "            try:\n",
    "                receiver_addresses[-1].append(transaction_ego[j]['out'][i]['addr'])\n",
    "                amount[-1].append(transaction_ego[j]['out'][i]['value'])\n",
    "            except:\n",
    "                issues.append([i,j])\n",
    "    \n",
    "    return(receiver_addresses)\n",
    "\n",
    "\n",
    "\n",
    "def amount_transferred_per_transaction(transaction_ego):\n",
    "    \n",
    "    amount = list()\n",
    "    for j in range(len(transaction_ego)):\n",
    "        amount.append([])\n",
    "        for i in range(len(transaction_ego[j]['out'])):\n",
    "            try:\n",
    "                amount[-1].append(transaction_ego[j]['out'][i]['value'])\n",
    "            except:\n",
    "                 pass\n",
    "    \n",
    "    return(amount)\n",
    "\n",
    "\n",
    "\n",
    "\n",
    "def create_sender_list(transaction_ego):\n",
    "    \n",
    "    sender_addresses = list()\n",
    "    issues_sender = list()\n",
    "    for j in range(len(transaction_ego)):\n",
    "        sender_addresses.append([])\n",
    "        for i in range(len(transaction_ego[j]['inputs'])):\n",
    "            try:\n",
    "                sender_addresses[-1].append(transaction_ego[j]['inputs'][i]['prev_out']['addr'])\n",
    "            except:\n",
    "                issues.append([i,j])\n",
    "    return(sender_addresses)\n",
    "\n",
    "def create_timestamp_list_transaction(transaction_ego):\n",
    "    return([transaction_ego[i]['time'] for i in range(len(transaction_ego))])\n",
    "\n",
    "def create_edge_list(sender_addresses, receiver_addresses, amount, timestamps_transactions):\n",
    "    \n",
    "    data = pd.DataFrame([], )\n",
    "\n",
    "    for nested in range(len(sender_addresses)):\n",
    "        for sender in range(len(sender_addresses[nested])):\n",
    "            for receiver in range(len(receiver_addresses[nested])):\n",
    "                data = data.append(pd.DataFrame({'sender': sender_addresses[nested][sender], 'receiver': receiver_addresses[nested][receiver], 'amount': amount[nested][receiver], 'timestamp': timestamps_transactions[nested]}, index=[0]), ignore_index=True)\n",
    "    return(data)"
   ]
  },
  {
   "cell_type": "code",
   "execution_count": 36,
   "metadata": {},
   "outputs": [],
   "source": [
    "sender_addresses = create_sender_list(transaction_ego)\n",
    "receiver_addresses = create_receiver_list(transaction_ego)\n",
    "timestamps_transactions = create_timestamp_list_transaction(transaction_ego)\n",
    "amount = amount_transferred_per_transaction(transaction_ego)"
   ]
  },
  {
   "cell_type": "code",
   "execution_count": 37,
   "metadata": {},
   "outputs": [],
   "source": [
    "data = create_edge_list(sender_addresses, receiver_addresses, amount, timestamps_transactions)"
   ]
  },
  {
   "cell_type": "code",
   "execution_count": 38,
   "metadata": {},
   "outputs": [],
   "source": [
    "data['datetime'] = [pd.to_datetime(time.strftime('%A, %Y-%m-%d %H:%M:%S', time.localtime(timestamp))) for timestamp in data['timestamp']]"
   ]
  },
  {
   "cell_type": "code",
   "execution_count": 42,
   "metadata": {},
   "outputs": [],
   "source": [
    "data_ego_2021 = data[data.datetime>=pd.to_datetime('2021-01-01')]"
   ]
  },
  {
   "cell_type": "code",
   "execution_count": 43,
   "metadata": {},
   "outputs": [],
   "source": [
    "OUT_PUT_PATH = 'edge_folder/edges_2021/ego_edges_2021.csv'\n",
    "data_ego_2021.to_csv(OUT_PUT_PATH)"
   ]
  },
  {
   "cell_type": "code",
   "execution_count": 13,
   "metadata": {},
   "outputs": [
    {
     "data": {
      "text/plain": [
       "(70, 70, 70)"
      ]
     },
     "execution_count": 13,
     "metadata": {},
     "output_type": "execute_result"
    }
   ],
   "source": [
    "len(sender_addresses), len(receiver_addresses), len(timestamps_transactions)"
   ]
  },
  {
   "cell_type": "code",
   "execution_count": 81,
   "metadata": {},
   "outputs": [],
   "source": [
    "OUT_PUT_PATH = 'edge_folder/ego_edges1.csv'\n",
    "data.to_csv(OUT_PUT_PATH)"
   ]
  },
  {
   "cell_type": "code",
   "execution_count": 27,
   "metadata": {},
   "outputs": [],
   "source": [
    "others = list(set(pd.concat([data.loc[data.datetime>=pd.to_datetime('2021-01-01'), 'receiver'], data.loc[data.datetime>=pd.to_datetime('2021-01-01'), 'sender']]).tolist()))\n",
    "others.remove(ego)"
   ]
  },
  {
   "cell_type": "code",
   "execution_count": 31,
   "metadata": {},
   "outputs": [
    {
     "data": {
      "text/plain": [
       "4"
      ]
     },
     "execution_count": 31,
     "metadata": {},
     "output_type": "execute_result"
    }
   ],
   "source": [
    "len(others)"
   ]
  },
  {
   "cell_type": "code",
   "execution_count": 32,
   "metadata": {},
   "outputs": [],
   "source": [
    "def get_edgelist_wallet(address):\n",
    "    \n",
    "    r =requests.get('https://blockchain.info/rawaddr/' + address)\n",
    "    # represent the inormation in json format\n",
    "    r_js = r.json()\n",
    "\n",
    "    # information about the transactions of this account\n",
    "    transaction_ego = r_js['txs']\n",
    "\n",
    "    sender_addresses = create_sender_list(transaction_ego)\n",
    "    receiver_addresses = create_receiver_list(transaction_ego)\n",
    "    timestamps_transactions = create_timestamp_list_transaction(transaction_ego)\n",
    "    amount = amount_transferred_per_transaction(transaction_ego)\n",
    "\n",
    "    data = create_edge_list(sender_addresses, receiver_addresses, amount, timestamps_transactions)\n",
    "    data['datetime'] = [pd.to_datetime(time.strftime('%A, %Y-%m-%d %H:%M:%S', time.localtime(timestamp))) for timestamp in data['timestamp']]\n",
    "    data = data[data.datetime>=pd.to_datetime('2021-01-01')]\n",
    "    return(data)"
   ]
  },
  {
   "cell_type": "code",
   "execution_count": 35,
   "metadata": {},
   "outputs": [],
   "source": [
    "for i in range(len(others)):\n",
    "    data = get_edgelist_wallet(others[i])\n",
    "    OUT_PUT_PATH = 'edge_folder/edges_2021/edges_' + others[i] + '.csv'\n",
    "    data.to_csv(OUT_PUT_PATH)"
   ]
  },
  {
   "cell_type": "code",
   "execution_count": null,
   "metadata": {},
   "outputs": [],
   "source": [
    "import os\n",
    "import glob\n",
    "\n",
    "os.chdir(\"./edge_folder/edges_2021\")\n",
    "file_extension = '.csv'\n",
    "all_filenames = [i for i in glob.glob(f\"*{file_extension}\")]"
   ]
  },
  {
   "cell_type": "code",
   "execution_count": 56,
   "metadata": {},
   "outputs": [],
   "source": [
    "file_extension = '.csv'\n",
    "all_filenames = [i for i in glob.glob(f\"*{file_extension}\")]\n",
    "\n",
    "combined_csv_data = pd.concat([pd.read_csv(f) for f in all_filenames])\n",
    "others = list(set(pd.concat([combined_csv_data['receiver'], combined_csv_data['sender']]).tolist()))\n",
    "\n",
    "OUT_PUT_PATH = './ego_network_2021.csv'\n",
    "combined_csv_data.to_csv(OUT_PUT_PATH)"
   ]
  },
  {
   "cell_type": "code",
   "execution_count": 76,
   "metadata": {},
   "outputs": [
    {
     "data": {
      "text/html": [
       "<div>\n",
       "<style scoped>\n",
       "    .dataframe tbody tr th:only-of-type {\n",
       "        vertical-align: middle;\n",
       "    }\n",
       "\n",
       "    .dataframe tbody tr th {\n",
       "        vertical-align: top;\n",
       "    }\n",
       "\n",
       "    .dataframe thead th {\n",
       "        text-align: right;\n",
       "    }\n",
       "</style>\n",
       "<table border=\"1\" class=\"dataframe\">\n",
       "  <thead>\n",
       "    <tr style=\"text-align: right;\">\n",
       "      <th></th>\n",
       "      <th>id</th>\n",
       "      <th>label</th>\n",
       "    </tr>\n",
       "  </thead>\n",
       "  <tbody>\n",
       "    <tr>\n",
       "      <th>1748</th>\n",
       "      <td>17QAWGVpFV4gZ25NQug46e5mBho4uDP6MD</td>\n",
       "      <td>target</td>\n",
       "    </tr>\n",
       "  </tbody>\n",
       "</table>\n",
       "</div>"
      ],
      "text/plain": [
       "                                      id   label\n",
       "1748  17QAWGVpFV4gZ25NQug46e5mBho4uDP6MD  target"
      ]
     },
     "execution_count": 76,
     "metadata": {},
     "output_type": "execute_result"
    }
   ],
   "source": [
    "others = list(set(pd.concat([combined_csv_data['receiver'], combined_csv_data['sender']]).tolist()))\n",
    "others = pd.DataFrame({'id':others})\n",
    "others['label'] = ['target' if target==ego else 'other' for target in others['id'] ]\n",
    "others[others.id==ego]"
   ]
  },
  {
   "cell_type": "code",
   "execution_count": 77,
   "metadata": {},
   "outputs": [],
   "source": [
    "\n",
    "OUT_PUT_PATH = './nodes_ego_network_2021.csv'\n",
    "others.to_csv(OUT_PUT_PATH)"
   ]
  }
 ],
 "metadata": {
  "kernelspec": {
   "display_name": "Python 3",
   "language": "python",
   "name": "python3"
  },
  "language_info": {
   "codemirror_mode": {
    "name": "ipython",
    "version": 3
   },
   "file_extension": ".py",
   "mimetype": "text/x-python",
   "name": "python",
   "nbconvert_exporter": "python",
   "pygments_lexer": "ipython3",
   "version": "3.6.9"
  }
 },
 "nbformat": 4,
 "nbformat_minor": 4
}
