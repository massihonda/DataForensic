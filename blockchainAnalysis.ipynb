{
 "cells": [
  {
   "cell_type": "code",
   "execution_count": 40,
   "metadata": {},
   "outputs": [],
   "source": [
    "import requests\n",
    "import pandas as pd"
   ]
  },
  {
   "cell_type": "code",
   "execution_count": null,
   "metadata": {},
   "outputs": [],
   "source": [
    "# Get information about the adress of interest through blockchain API"
   ]
  },
  {
   "cell_type": "code",
   "execution_count": 2,
   "metadata": {},
   "outputs": [],
   "source": [
    "r =requests.get('https://blockchain.info/rawaddr/17QAWGVpFV4gZ25NQug46e5mBho4uDP6MD')"
   ]
  },
  {
   "cell_type": "code",
   "execution_count": 3,
   "metadata": {},
   "outputs": [
    {
     "data": {
      "text/plain": [
       "'17QAWGVpFV4gZ25NQug46e5mBho4uDP6MD'"
      ]
     },
     "execution_count": 3,
     "metadata": {},
     "output_type": "execute_result"
    }
   ],
   "source": [
    "# represent the inormation in json format\n",
    "r_js = r.json()\n",
    "\n",
    "# information about the transactions of this account\n",
    "transaction_ego = r_js['txs']\n",
    "transaction_ego[0]['inputs'][0]['prev_out']['addr']"
   ]
  },
  {
   "cell_type": "code",
   "execution_count": 52,
   "metadata": {},
   "outputs": [],
   "source": [
    "def create_receiver_list(transaction_ego):\n",
    "    receiver_addresses = list()\n",
    "    issues_receiver = list()\n",
    "    amount = list()\n",
    "    for j in range(len(transaction_ego)):\n",
    "        receiver_addresses.append([])\n",
    "        amount.append([])\n",
    "        for i in range(len(transaction_ego[j]['out'])):\n",
    "            try:\n",
    "                receiver_addresses[-1].append(transaction_ego[j]['out'][i]['addr'])\n",
    "                amount[-1].append(transaction_ego[j]['out'][i]['value'])\n",
    "            except:\n",
    "                issues.append([i,j])\n",
    "    \n",
    "    return(receiver_addresses)\n",
    "\n",
    "\n",
    "\n",
    "def amount_transferred_per_transaction(transaction_ego):\n",
    "    \n",
    "    amount = list()\n",
    "    for j in range(len(transaction_ego)):\n",
    "        amount.append([])\n",
    "        for i in range(len(transaction_ego[j]['out'])):\n",
    "            try:\n",
    "                amount[-1].append(transaction_ego[j]['out'][i]['value'])\n",
    "            except:\n",
    "                 pass\n",
    "    \n",
    "    return(amount)\n",
    "\n",
    "\n",
    "\n",
    "\n",
    "def create_sender_list(transaction_ego):\n",
    "    \n",
    "    sender_addresses = list()\n",
    "    issues_sender = list()\n",
    "    for j in range(len(transaction_ego)):\n",
    "        sender_addresses.append([])\n",
    "        for i in range(len(transaction_ego[j]['inputs'])):\n",
    "            try:\n",
    "                sender_addresses[-1].append(transaction_ego[j]['inputs'][i]['prev_out']['addr'])\n",
    "            except:\n",
    "                issues.append([i,j])\n",
    "    return(sender_addresses)\n",
    "\n",
    "def create_timestamp_list_transaction(transaction_ego):\n",
    "    return([transaction_ego[i]['time'] for i in range(len(transaction_ego))])\n",
    "\n",
    "def create_edge_list(sender_addresses, receiver_addresses, amount, timestamps_transactions):\n",
    "    \n",
    "    data = pd.DataFrame([], )\n",
    "\n",
    "    for nested in range(len(sender_addresses)):\n",
    "        for sender in range(len(sender_addresses[nested])):\n",
    "            for receiver in range(len(receiver_addresses[nested])):\n",
    "                data = data.append(pd.DataFrame({'sender': sender_addresses[nested][sender], 'receiver': receiver_addresses[nested][receiver], 'amount': amount[nested][receiver], 'timestamp': timestamps_transactions[nested]}, index=[0]), ignore_index=True)\n",
    "    return(data)"
   ]
  },
  {
   "cell_type": "code",
   "execution_count": 53,
   "metadata": {},
   "outputs": [],
   "source": [
    "sender_addresses = create_sender_list(transaction_ego)\n",
    "receiver_addresses = create_receiver_list(transaction_ego)\n",
    "timestamps_transactions = create_timestamp_list_transaction(transaction_ego)\n",
    "amount = amount_transferred_per_transaction(transaction_ego)"
   ]
  },
  {
   "cell_type": "code",
   "execution_count": 54,
   "metadata": {},
   "outputs": [],
   "source": [
    "data = create_edge_list(sender_addresses, receiver_addresses, amount, timestamps_transactions)"
   ]
  },
  {
   "cell_type": "code",
   "execution_count": 56,
   "metadata": {},
   "outputs": [
    {
     "data": {
      "text/html": [
       "<div>\n",
       "<style scoped>\n",
       "    .dataframe tbody tr th:only-of-type {\n",
       "        vertical-align: middle;\n",
       "    }\n",
       "\n",
       "    .dataframe tbody tr th {\n",
       "        vertical-align: top;\n",
       "    }\n",
       "\n",
       "    .dataframe thead th {\n",
       "        text-align: right;\n",
       "    }\n",
       "</style>\n",
       "<table border=\"1\" class=\"dataframe\">\n",
       "  <thead>\n",
       "    <tr style=\"text-align: right;\">\n",
       "      <th></th>\n",
       "      <th>sender</th>\n",
       "      <th>receiver</th>\n",
       "      <th>amount</th>\n",
       "      <th>timestamp</th>\n",
       "    </tr>\n",
       "  </thead>\n",
       "  <tbody>\n",
       "    <tr>\n",
       "      <th>0</th>\n",
       "      <td>17QAWGVpFV4gZ25NQug46e5mBho4uDP6MD</td>\n",
       "      <td>1Lm9BCDUKoBUk888DCXewM5p8bJyr83cEp</td>\n",
       "      <td>6289763</td>\n",
       "      <td>1611066471</td>\n",
       "    </tr>\n",
       "    <tr>\n",
       "      <th>1</th>\n",
       "      <td>17QAWGVpFV4gZ25NQug46e5mBho4uDP6MD</td>\n",
       "      <td>1Lm9BCDUKoBUk888DCXewM5p8bJyr83cEp</td>\n",
       "      <td>6289763</td>\n",
       "      <td>1611066471</td>\n",
       "    </tr>\n",
       "    <tr>\n",
       "      <th>2</th>\n",
       "      <td>17QAWGVpFV4gZ25NQug46e5mBho4uDP6MD</td>\n",
       "      <td>1Lm9BCDUKoBUk888DCXewM5p8bJyr83cEp</td>\n",
       "      <td>6289763</td>\n",
       "      <td>1611066471</td>\n",
       "    </tr>\n",
       "    <tr>\n",
       "      <th>3</th>\n",
       "      <td>17QAWGVpFV4gZ25NQug46e5mBho4uDP6MD</td>\n",
       "      <td>1Lm9BCDUKoBUk888DCXewM5p8bJyr83cEp</td>\n",
       "      <td>6289763</td>\n",
       "      <td>1611066471</td>\n",
       "    </tr>\n",
       "    <tr>\n",
       "      <th>4</th>\n",
       "      <td>17QAWGVpFV4gZ25NQug46e5mBho4uDP6MD</td>\n",
       "      <td>1Lm9BCDUKoBUk888DCXewM5p8bJyr83cEp</td>\n",
       "      <td>6289763</td>\n",
       "      <td>1611066471</td>\n",
       "    </tr>\n",
       "  </tbody>\n",
       "</table>\n",
       "</div>"
      ],
      "text/plain": [
       "                               sender                            receiver  \\\n",
       "0  17QAWGVpFV4gZ25NQug46e5mBho4uDP6MD  1Lm9BCDUKoBUk888DCXewM5p8bJyr83cEp   \n",
       "1  17QAWGVpFV4gZ25NQug46e5mBho4uDP6MD  1Lm9BCDUKoBUk888DCXewM5p8bJyr83cEp   \n",
       "2  17QAWGVpFV4gZ25NQug46e5mBho4uDP6MD  1Lm9BCDUKoBUk888DCXewM5p8bJyr83cEp   \n",
       "3  17QAWGVpFV4gZ25NQug46e5mBho4uDP6MD  1Lm9BCDUKoBUk888DCXewM5p8bJyr83cEp   \n",
       "4  17QAWGVpFV4gZ25NQug46e5mBho4uDP6MD  1Lm9BCDUKoBUk888DCXewM5p8bJyr83cEp   \n",
       "\n",
       "    amount   timestamp  \n",
       "0  6289763  1611066471  \n",
       "1  6289763  1611066471  \n",
       "2  6289763  1611066471  \n",
       "3  6289763  1611066471  \n",
       "4  6289763  1611066471  "
      ]
     },
     "execution_count": 56,
     "metadata": {},
     "output_type": "execute_result"
    }
   ],
   "source": [
    "data.head()"
   ]
  },
  {
   "cell_type": "code",
   "execution_count": 9,
   "metadata": {},
   "outputs": [
    {
     "data": {
      "text/plain": [
       "(69, 69, 69)"
      ]
     },
     "execution_count": 9,
     "metadata": {},
     "output_type": "execute_result"
    }
   ],
   "source": [
    "len(sender_addresses), len(receiver_addresses), len(timestamps_transactions)"
   ]
  }
 ],
 "metadata": {
  "kernelspec": {
   "display_name": "Python 3",
   "language": "python",
   "name": "python3"
  },
  "language_info": {
   "codemirror_mode": {
    "name": "ipython",
    "version": 3
   },
   "file_extension": ".py",
   "mimetype": "text/x-python",
   "name": "python",
   "nbconvert_exporter": "python",
   "pygments_lexer": "ipython3",
   "version": "3.6.9"
  }
 },
 "nbformat": 4,
 "nbformat_minor": 4
}
