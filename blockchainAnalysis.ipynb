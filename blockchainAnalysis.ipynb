{
 "cells": [
  {
   "cell_type": "code",
   "execution_count": 2,
   "metadata": {},
   "outputs": [],
   "source": [
    "import requests"
   ]
  },
  {
   "cell_type": "code",
   "execution_count": null,
   "metadata": {},
   "outputs": [],
   "source": [
    "# Get information about the adress of interest through blockchain API"
   ]
  },
  {
   "cell_type": "code",
   "execution_count": 16,
   "metadata": {},
   "outputs": [],
   "source": [
    "r =requests.get('https://blockchain.info/rawaddr/17QAWGVpFV4gZ25NQug46e5mBho4uDP6MD')"
   ]
  },
  {
   "cell_type": "code",
   "execution_count": 31,
   "metadata": {},
   "outputs": [
    {
     "data": {
      "text/plain": [
       "'17QAWGVpFV4gZ25NQug46e5mBho4uDP6MD'"
      ]
     },
     "execution_count": 31,
     "metadata": {},
     "output_type": "execute_result"
    }
   ],
   "source": [
    "# represent the inormation in json format\n",
    "r_js = r.json()\n",
    "\n",
    "# information about the transactions of this account\n",
    "transaction_ego = r_js['txs']\n",
    "transaction_ego[0]['inputs'][0]['prev_out']['addr']"
   ]
  },
  {
   "cell_type": "code",
   "execution_count": 97,
   "metadata": {},
   "outputs": [],
   "source": [
    "receiver_addresses = list()\n",
    "issues_receiver = list()\n",
    "for j in range(len(transaction_ego)):\n",
    "    receiver_addresses.append([])\n",
    "    for i in range(len(transaction_ego[j]['out'])):\n",
    "        try:\n",
    "            receiver_addresses[-1].append(transaction_ego[j]['out'][i]['addr'])\n",
    "        except:\n",
    "            issues.append([i,j])\n",
    "\n",
    "\n",
    "sender_addresses = list()\n",
    "issues_sender = list()\n",
    "for j in range(len(transaction_ego)):\n",
    "    sender_addresses.append([])\n",
    "    for i in range(len(transaction_ego[j]['inputs'])):\n",
    "        try:\n",
    "            sender_addresses[-1].append(transaction_ego[j]['inputs'][i]['prev_out']['addr'])\n",
    "        except:\n",
    "            issues.append([i,j])"
   ]
  },
  {
   "cell_type": "code",
   "execution_count": 38,
   "metadata": {},
   "outputs": [],
   "source": [
    "timestamps_transactions = [transaction_ego[i]['time'] for i in range(len(transaction_ego))]"
   ]
  },
  {
   "cell_type": "code",
   "execution_count": 103,
   "metadata": {},
   "outputs": [
    {
     "data": {
      "text/plain": [
       "(50, 50, 50)"
      ]
     },
     "execution_count": 103,
     "metadata": {},
     "output_type": "execute_result"
    }
   ],
   "source": [
    "len(sender_addresses), len(receiver_addresses), len(timestamps_transactions)"
   ]
  }
 ],
 "metadata": {
  "kernelspec": {
   "display_name": "Python 3",
   "language": "python",
   "name": "python3"
  },
  "language_info": {
   "codemirror_mode": {
    "name": "ipython",
    "version": 3
   },
   "file_extension": ".py",
   "mimetype": "text/x-python",
   "name": "python",
   "nbconvert_exporter": "python",
   "pygments_lexer": "ipython3",
   "version": "3.6.9"
  }
 },
 "nbformat": 4,
 "nbformat_minor": 4
}
