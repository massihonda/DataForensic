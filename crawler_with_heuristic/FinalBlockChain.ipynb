{
 "cells": [
  {
   "cell_type": "code",
   "execution_count": 3,
   "metadata": {},
   "outputs": [],
   "source": [
    "import requests\n",
    "import pandas as pd\n",
    "import time\n",
    "from datetime import datetime\n",
    "from dateutil.parser import parse\n",
    "import copy"
   ]
  },
  {
   "cell_type": "code",
   "execution_count": 278,
   "metadata": {},
   "outputs": [],
   "source": [
    "def intersect(s1, s2):\n",
    "    return(len(s1.intersection(s2))>0)\n",
    "\n",
    "def map_addresses_with_id(ego_edge_list, identity):\n",
    "    \n",
    "    from_list = [nested for nested in get_id_from_address(ego_edge_list['from'], identity)]\n",
    "    to_list = [nested for nested in get_id_from_address(ego_edge_list['to'], identity)]\n",
    "    \n",
    "    ego_edge_list['from_id'] = from_list\n",
    "    ego_edge_list['to_id'] = to_list\n",
    "    \n",
    "    return(ego_edge_list)\n",
    "\n",
    "def merger(identity):\n",
    "    \n",
    "    copy_identity = copy.deepcopy(identity)    \n",
    "    end = len(identity['from'])\n",
    "    idx = 0\n",
    "    \n",
    "    while idx < len(copy_identity['from']):\n",
    "\n",
    "        from1 = copy_identity.iloc[idx,0]\n",
    "        from1_idx = copy_identity.iloc[idx,:].index\n",
    "        idxes_mtch = copy_identity.index[copy_identity['from'].apply(set).apply(intersect, s2=set(from1))].tolist()\n",
    "\n",
    "        if len(idxes_mtch)>1:\n",
    "            for to_remove in idxes_mtch[1:]:\n",
    "                #copy_identity.loc[idxes_mtch[0], 'from'].extend(copy_identity.loc[to_remove, 'from'])\n",
    "                copy_identity.at[idxes_mtch[0], 'from'] = copy_identity.at[idxes_mtch[0], 'from'] + copy_identity.at[to_remove, 'from']\n",
    "            copy_identity.drop(idxes_mtch[1:], inplace = True)\n",
    "            \n",
    "            end = len(copy_identity['from'])\n",
    "        idx += 1\n",
    "        \n",
    "    return(copy_identity)"
   ]
  },
  {
   "cell_type": "code",
   "execution_count": null,
   "metadata": {},
   "outputs": [],
   "source": []
  },
  {
   "cell_type": "code",
   "execution_count": 279,
   "metadata": {},
   "outputs": [],
   "source": [
    "def get_info_from_address(address):\n",
    "    r =requests.get('https://blockchain.info/rawaddr/' + address).json()\n",
    "    r = r['txs']\n",
    "    return(r)\n",
    "\n",
    "def get_transactions_from_addresses(address_list):\n",
    "    \n",
    "    raw_transactions = pd.DataFrame(columns=['from','to','amount','timestamp'])\n",
    "    # Get table of transactions in raw form\n",
    "    for address in address_list:\n",
    "        try:\n",
    "            request_info = get_info_from_address(address)\n",
    "            raw_transactions = raw_transactions.append(get_edge_list(request_info))\n",
    "            time.sleep(20)\n",
    "            print('Completed address {}'.format(address))\n",
    "        except:\n",
    "            print(' Address {} raised exception'.format(address))\n",
    "    \n",
    "    raw_transactions.reset_index(inplace=True)\n",
    "    \n",
    "    return(raw_transactions)\n"
   ]
  },
  {
   "cell_type": "code",
   "execution_count": 280,
   "metadata": {},
   "outputs": [],
   "source": [
    "def get_edge_list(info_from_address):\n",
    "    \n",
    "    senders = create_sender_list(info_from_address)\n",
    "    receivers = create_receiver_list(info_from_address)\n",
    "    \n",
    "    edges_ego = pd.DataFrame({'from':senders, 'to':receivers, 'amount':amount_transferred_per_transaction(info_from_address), 'timestamp':create_timestamp_list_transaction(info_from_address)})\n",
    "    \n",
    "    return(edges_ego)\n",
    "\n",
    "def create_receiver_list(transaction_ego):\n",
    "    receiver_addresses = list()\n",
    "    issues_receiver = list()\n",
    "    amount = list()\n",
    "    for j in range(len(transaction_ego)):\n",
    "        receiver_addresses.append([])\n",
    "        amount.append([])\n",
    "        for i in range(len(transaction_ego[j]['out'])):\n",
    "            try:\n",
    "                receiver_addresses[-1].append(transaction_ego[j]['out'][i]['addr'])\n",
    "                amount[-1].append(transaction_ego[j]['out'][i]['value'])\n",
    "            except:\n",
    "                issues.append([i,j])\n",
    "    \n",
    "    return(receiver_addresses)\n",
    "\n",
    "\n",
    "def amount_transferred_per_transaction(transaction_ego):\n",
    "    \n",
    "    amount = list()\n",
    "    for j in range(len(transaction_ego)):\n",
    "        amount.append([])\n",
    "        for i in range(len(transaction_ego[j]['out'])):\n",
    "            try:\n",
    "                amount[-1].append(transaction_ego[j]['out'][i]['value'])\n",
    "            except:\n",
    "                 pass\n",
    "    \n",
    "    return(amount)\n",
    "\n",
    "\n",
    "def create_sender_list(transaction_ego):\n",
    "    \n",
    "    sender_addresses = list()\n",
    "    issues_sender = list()\n",
    "    for j in range(len(transaction_ego)):\n",
    "        sender_addresses.append([])\n",
    "        for i in range(len(transaction_ego[j]['inputs'])):\n",
    "            try:\n",
    "                sender_addresses[-1].append(transaction_ego[j]['inputs'][i]['prev_out']['addr'])\n",
    "            except:\n",
    "                issues.append([i,j])\n",
    "    return(sender_addresses)\n",
    "\n",
    "def create_timestamp_list_transaction(transaction_ego):\n",
    "    return([transaction_ego[i]['time'] for i in range(len(transaction_ego))])\n",
    "\n"
   ]
  },
  {
   "cell_type": "code",
   "execution_count": 281,
   "metadata": {},
   "outputs": [],
   "source": [
    "# Mapping functions\n",
    "\n",
    "# def get_id_from_address(address, identity_table):\n",
    "#     return(identity_table[[address in nested for nested in identity_table['from']]]['id'].tolist()[0])\n",
    "def mapping(address_list, identity):\n",
    "    return([get_id_from_address(address, identity) for address in address_list])\n",
    "\n",
    "def mapping_from(address_list, identity):\n",
    "    return([get_id_from_address(address_list[0], identity)])\n",
    "\n",
    "def get_id_from_address(address, identity_table):\n",
    "    id_found = identity_table[identity_table['from'].apply(is_in_list, address = address)]['id'].tolist()\n",
    "    \n",
    "    if len(id_found)==1:\n",
    "        return(id_found[0])\n",
    "    \n",
    "    elif len(id_found)>1:\n",
    "        print(id_found)\n",
    "    else:\n",
    "        return(address)\n",
    "\n",
    "def is_in_list(address_list, address):\n",
    "    return(address in address_list)"
   ]
  },
  {
   "cell_type": "code",
   "execution_count": 282,
   "metadata": {},
   "outputs": [],
   "source": [
    "def edge_creator(raw_transactions):\n",
    "    \n",
    "    edges = pd.DataFrame(columns = ['sender', 'receiver', 'amount', 'timestamp'])\n",
    "\n",
    "    for index_raw in range(len(raw_transactions)):\n",
    "        for index_receiver in range(len(raw_transactions.iloc[index_raw, -1])):\n",
    "            sender = raw_transactions.iloc[index_raw, -2][0]\n",
    "            receiver = raw_transactions.iloc[index_raw, -1][index_receiver]\n",
    "            amount = raw_transactions.iloc[index_raw, -5][index_receiver]\n",
    "            timestamp = raw_transactions.iloc[index_raw, -4]\n",
    "            edges = edges.append({'sender':sender, 'receiver': receiver, 'amount': amount, 'timestamp': timestamp}, ignore_index=True)\n",
    "    \n",
    "    return(edges)"
   ]
  },
  {
   "cell_type": "code",
   "execution_count": 283,
   "metadata": {},
   "outputs": [],
   "source": [
    "def flatten_nested_list(nested_list):\n",
    "    return([item for nested in  nested_list for item in nested])"
   ]
  },
  {
   "cell_type": "markdown",
   "metadata": {},
   "source": [
    "# Analysis of Terrorism Fund Raising"
   ]
  },
  {
   "cell_type": "code",
   "execution_count": 9,
   "metadata": {},
   "outputs": [],
   "source": [
    "# address_list = ['17QAWGVpFV4gZ25NQug46e5mBho4uDP6MD', \n",
    "#                 '1Lm9BCDUKoBUk888DCXewM5p8bJyr83cEp', \n",
    "#                 '186YZVryvtxuXESLo1jzYU1xoRgyd5WARN', \n",
    "#                 '1NDyJtNTjmwk5xPNhjgAMu4HDHigtobu1s', \n",
    "#                 '32cNfustcJXjz7afCGPuCuRpgZjcYJQsLE', \n",
    "#                 '3CUXTV35SteDufJyuSTSSWhHdrbnpbTXz9', \n",
    "#                 '3Fqne1QeMEGHVJwoz3m95fnDZvqfXL2Z4u', \n",
    "#                 '34xp4vRoCGJym3xR7yCVPFHoCNxv4Twseo', # receiver of 1NDyJtNTjmwk5xPNhjgAMu4HDHigtobu1s (it made a lot of transactions and a lot of money traffic)\n",
    "#                 '15K9Zj1AU2hjT3ebZMtWqDsMv3fFxTNwpf', \n",
    "#                 '34GzR7ytFGSviY6CttWH3uDV6QEy2n1JcD', \n",
    "#                 '3434fpnej1Y9cKb5pYwGXoeTnptmW3bXdq', \n",
    "#                 '123kGrVjKmvQAnjuNDuxMCnscFjNxoxnym', \n",
    "#                 '12Cojd2nCLaqtmvKXaAC5FFZ8HpqUa5i5C', \n",
    "#                 '12DWpXck5B3oQsp18NG22v57eBdMcHz326',\n",
    "#                 '14btpv9LnvJBRPwLqakvdHLUjfLsZrN7sK',\n",
    "#                 '19P5khHYGdsyGPX4xH8RMQxNaWbRCiqzZ3', \n",
    "#                 '1s8nW9cXRJtdHd1hQ1ZFFvgoUNkjKJcf8', \n",
    "#                 '197BDiQuWki4egPACYj1f2UtdZ2d4QiFP5', \n",
    "#                 '1DZ9iLykDrZgjMURNkbmokAwv17VsW998u', \n",
    "#                 '16YRiGSGLxKdLQPxiWeTgt8jrpZwRcxjQ3', \n",
    "#                 '1LDQhgUTEQJqzGTRPUY5EAthJvktixMnLE',\n",
    "#                 '1LdnTDv4Zs524aU2fifLi3vVHWhPL6Cgp1',\n",
    "#                 '1PLQFgpdEJQGQ9rMjEWP3gdKv1bJGu9fse',\n",
    "#                 '13kcud8fKBfeoRjym9wC7tfLu4skL5s27t',\n",
    "#                 '1F3twjJjFh6DeQWFNUxVCdLvZk1xNsee7T',\n",
    "#                 '1L6BbVSFpHCTibmHAGmtx4qVntRx2n58NX',\n",
    "#                 '1PVQiWq9ds3CsHF2h2wF6qoccxVenprSoQ',\n",
    "#                 '1AppUXgJnhGrBpbV1vG4XwnXUvenTYh3M4', \n",
    "                \n",
    "#                 'bc1qwfgdjyy95aay2686fn74h6a4nu9eev6np7q4fn204dkj3274frlqrskvx0',\n",
    "#                '1AupiZBi1bMVfcMgfFx4qcPtVWVgdvE29c',  # receiver of 1NDyJtNTjmwk5xPNhjgAMu4HDHigtobu1s\n",
    "#                  '37tRFZw7n94Jddq6TfVs3MbCXmDX6eMfeY' \n",
    "#                 '13s7sRxYi9iiCqgbefhk1MQiGzj9LNWUsy',\n",
    "#                 '14xQDjyBVXHFRpi9q2HDt1wTCigkDjRt8j', \n",
    "#                 '1CT58z7sbUyAEZPVkeqnMpnSBBCEEoSbfQ',\n",
    "#                  '1GX84MiXv4SjpPgTYjenmDxn3HL3nLJkot', \n",
    "#                 '1BixJDFzEBmh7uSzbebmeugro4i6G54ga3',\n",
    "#                 '1P8AYmUjH3kqoaW1qNXYBYKUA5RQ97ryEd',\n",
    "#                 '16rhvDAd64fMhpFcH5N7sh7QdyLLGy9M44', \n",
    "#                 '12jwNYodFi926PeMGpaqhdq7ZFLn2VAeon',\n",
    "#                 '16svEnyvUqFdXphdPC7ydPcAJAqYHXAhaa',\n",
    "#                  '1FYk7mGjbfW1jVz2dWNUYReENEJ6wqta9a', \n",
    "#                 '1A3VDjFVEToupAAQmyE2wSq2rNz3iuEqTX',\n",
    "#                 '13LNRzkFC8FMyZsosWtLcdcTiMLoVvLufk',\n",
    "#                 '13QWZ1sv5wwPfZxAa8a6MPeEPuVA7MK8rF',\n",
    "#                 '1AWGdz1PguoHPJ2zKHMnRthC7LoCbVf3PB', \n",
    "#                 '191BDVckuiY6Sf8QBWynCB81ib5JVwKhDx',\n",
    "#                 '1HUEp4RGdVYYuJWB4jkJ9B1UTLW7wqNC6X'\n",
    "#                ]"
   ]
  },
  {
   "cell_type": "code",
   "execution_count": 10,
   "metadata": {},
   "outputs": [],
   "source": [
    "address_list = ['1Lm9BCDUKoBUk888DCXewM5p8bJyr83cEp']"
   ]
  },
  {
   "cell_type": "code",
   "execution_count": 205,
   "metadata": {},
   "outputs": [
    {
     "name": "stdout",
     "output_type": "stream",
     "text": [
      "Completed address 1Lm9BCDUKoBUk888DCXewM5p8bJyr83cEp\n"
     ]
    }
   ],
   "source": [
    "raw_transactions = get_transactions_from_addresses(address_list)"
   ]
  },
  {
   "cell_type": "code",
   "execution_count": 347,
   "metadata": {},
   "outputs": [],
   "source": [
    "# Covert timestamps into date objects\n",
    "raw_transactions['Date'] = [datetime.fromtimestamp(timestamp) for timestamp in raw_transactions['timestamp']]"
   ]
  },
  {
   "cell_type": "markdown",
   "metadata": {},
   "source": [
    "#### Number of different accounts before heuristics:"
   ]
  },
  {
   "cell_type": "code",
   "execution_count": 348,
   "metadata": {},
   "outputs": [
    {
     "name": "stdout",
     "output_type": "stream",
     "text": [
      "The total number of different accounts before heuristics is 2500\n"
     ]
    }
   ],
   "source": [
    "number_of_accounts = len(set(flatten_nested_list(raw_transactions.loc[raw_transactions.Date>parse('2021-01-01'), 'from']) + flatten_nested_list(raw_transactions.loc[raw_transactions.Date>parse('2021-01-01'), 'to'])))\n",
    "print('The total number of different accounts before heuristics is {}'.format(number_of_accounts))"
   ]
  },
  {
   "cell_type": "code",
   "execution_count": 210,
   "metadata": {},
   "outputs": [],
   "source": [
    "# Remove Date column as not necessary\n",
    "raw_transactions.drop(columns=['Date'], inplace = True)"
   ]
  },
  {
   "cell_type": "markdown",
   "metadata": {},
   "source": [
    "### Apply Input Heuristic"
   ]
  },
  {
   "cell_type": "code",
   "execution_count": 211,
   "metadata": {},
   "outputs": [],
   "source": [
    "raw_transactions['id'] = range(len(raw_transactions))\n",
    "identity = copy.deepcopy(raw_transactions.loc[:, ['from','id']])\n",
    "identity = merger(identity)"
   ]
  },
  {
   "cell_type": "markdown",
   "metadata": {},
   "source": [
    "#### Map accounts' addresses with unique identifier"
   ]
  },
  {
   "cell_type": "code",
   "execution_count": null,
   "metadata": {},
   "outputs": [],
   "source": [
    "raw_transactions['from_id'] = raw_transactions['from'].apply(mapping_from, identity = identity).apply(set).apply(list)\n",
    "raw_transactions['to_id'] = raw_transactions['to'].apply(mapping, identity = identity)\n",
    "edges = edge_creator(raw_transactions)"
   ]
  },
  {
   "cell_type": "code",
   "execution_count": 141,
   "metadata": {},
   "outputs": [],
   "source": [
    "#edges.to_csv('/home/massi/my_project_dir/blockChain/data/edges_final/edges.csv', index=False)"
   ]
  },
  {
   "cell_type": "markdown",
   "metadata": {},
   "source": [
    "#### Take only transactions happened in 2021"
   ]
  },
  {
   "cell_type": "code",
   "execution_count": 213,
   "metadata": {},
   "outputs": [],
   "source": [
    "edges['Date'] = [datetime.fromtimestamp(timestamp) for timestamp in edges['timestamp']]\n",
    "\n",
    "edges_2021 = edges[edges.Date>parse('2021-01-01')]\n",
    "edges_2021.columns = ['source', 'target', 'amount', 'timestamp', 'Date']\n",
    "#edges_2021.to_csv('/home/massi/my_project_dir/blockChain/data/edges_final/edges_2021.csv', index=False)"
   ]
  },
  {
   "cell_type": "markdown",
   "metadata": {},
   "source": [
    "#### Store accounts in the output that are not mapped yet"
   ]
  },
  {
   "cell_type": "code",
   "execution_count": 92,
   "metadata": {},
   "outputs": [],
   "source": [
    "tb_scraped = list(set(edges_2021.loc[[type(value) != int for value in edges_2021['target']], 'target']))"
   ]
  },
  {
   "cell_type": "code",
   "execution_count": 93,
   "metadata": {
    "collapsed": true
   },
   "outputs": [
    {
     "data": {
      "text/plain": [
       "[0,\n",
       " 1,\n",
       " 3,\n",
       " 5,\n",
       " 8,\n",
       " 10,\n",
       " 12,\n",
       " 15,\n",
       " 16,\n",
       " 17,\n",
       " 19,\n",
       " 21,\n",
       " 22,\n",
       " 23,\n",
       " 25,\n",
       " 27,\n",
       " 29,\n",
       " 31,\n",
       " 33,\n",
       " 35,\n",
       " 37,\n",
       " 40,\n",
       " 41,\n",
       " 43]"
      ]
     },
     "execution_count": 93,
     "metadata": {},
     "output_type": "execute_result"
    }
   ],
   "source": [
    "list(set(edges_2021.loc[[type(value) == int for value in edges_2021['source']], 'source']))"
   ]
  },
  {
   "cell_type": "code",
   "execution_count": 144,
   "metadata": {},
   "outputs": [],
   "source": [
    "#identity.to_csv('/home/massi/my_project_dir/blockChain/data/edges_final/identity.csv', index=False)"
   ]
  },
  {
   "cell_type": "markdown",
   "metadata": {},
   "source": [
    "# Second Heuristic"
   ]
  },
  {
   "cell_type": "code",
   "execution_count": 15,
   "metadata": {},
   "outputs": [],
   "source": [
    "import json"
   ]
  },
  {
   "cell_type": "code",
   "execution_count": 16,
   "metadata": {},
   "outputs": [],
   "source": [
    "output_dict = dict()"
   ]
  },
  {
   "cell_type": "code",
   "execution_count": 17,
   "metadata": {
    "collapsed": true
   },
   "outputs": [
    {
     "name": "stdout",
     "output_type": "stream",
     "text": [
      "Succesfully scraped 1NmZ7m1QcCamK7iSdZH1zgCDVyjnx8CXRj\n",
      "Succesfully scraped 3D6GyDZ6dhZNwSi7VJbZJCRvs5Qh2oyLEr\n",
      "Succesfully scraped 1L2gjnutsMWtc1JWop4UHVG6opeNV2xcDZ\n",
      "Succesfully scraped 1PQzZ2J722CSmQtTfH1bz4R5dra9bUmhvT\n",
      "Succesfully scraped 37VLX47ohg8QMFCxx9HK4mahwCfUwGZhDu\n",
      "Succesfully scraped 3N9gxm87Aodw76bqiFQqHZqQSLCLHpKs2d\n",
      "Succesfully scraped 3P3GkjmUvUVfdW8LdzLMSE4QeCWUnHe1Nn\n",
      "Succesfully scraped 3MQ98rXmQUT5wpzhWdkaMTqHitJyY7B2E8\n",
      "Succesfully scraped 1Dc95vxwvjLtpPDmXs8VUwcx6jwCau7u9t\n",
      "Succesfully scraped 3Fqg2J4Ca9qgkrzEr3qd6wJTM6WZyQespo\n",
      "Succesfully scraped 19Vhh4DvLq6MDUpDefbTd7uLVZLSkbmw43\n",
      "Succesfully scraped 1CDFSTSAUR5cnvt5w7YHhs1T4BqpFRPiU2\n",
      "Succesfully scraped 1GVwJyM7xPKEn4BLc9LNnLtkR5Ri2HBzQB\n",
      "Succesfully scraped 1H3kdzidJuH2XdMmzjXZgPEUNWBn9XJcSR\n",
      "Succesfully scraped 179oCr2hjoojzcnrDXVEFZKrwFPULhfeV6\n",
      "Succesfully scraped 3F2vdQgLzZTG2MDAPSaeN1QznbmsK9jB8m\n",
      "Succesfully scraped 3KRY62z3QKCyB2yAhM53P7CyFw1rFeuEWZ\n",
      "Succesfully scraped 1PpFN3ESN3VpuJuuaGmLDNCBAtwDFD6uRx\n",
      "Succesfully scraped 3BKhmPYsfiYNrtViKsv1PDpwrFgFQbZr41\n",
      "Succesfully scraped 3EtsGfVUxQVcxWFhrEqfaK4VnTz2XtpdtS\n",
      "Succesfully scraped 39SWZDwLGGSdYSmaP63mtnvZck1fAbLDFP\n",
      "Succesfully scraped 3B35wtMJvWxuQ2h1xGND2AjoszcjS8nQD6\n",
      "Succesfully scraped 14AW4SfgWuitTo1rd9e5XvuHC6tVmbJHdN\n",
      "Succesfully scraped 1Gs7gbLRnPgofM5Hu9jNG5mUP295eF1Cyt\n",
      "Succesfully scraped 38K4XpgyTN2MBC4Dw5vWA6TzHFWwMtWhA5\n",
      "Succesfully scraped 37aVHCg5zp3gNmTPZZr7QMhPQZ8G2e2MYP\n",
      "Succesfully scraped 39q3UAnmViPo8aRyj97z4tcpJJgUoNyheV\n",
      "Succesfully scraped 1oDfZpJFEiEno1KTngyVX5s2YckrSc9H1\n",
      "Succesfully scraped 1HEdVEgVbm7yv2YKvb6n37FZJgQ5zh5WVf\n",
      "Succesfully scraped 35k2csHe3aN2fUPqZEEaXvBy44qbaZUCe4\n",
      "Succesfully scraped 3DhvdoZP2zmR4wkuRhyCpQefZBYkEyfCW5\n",
      "Succesfully scraped 1HFJqcokQb6xK8wH3Z8BUqpJwgppzm9nmG\n",
      "Succesfully scraped 17MK6zezZyxoEjwamGKqtbpoZau8K8dprH\n",
      "Succesfully scraped 1Bz2VaNUTZWu8DNeSst8PfBjGThdxF9WXW\n",
      "Succesfully scraped 1NYWq4BBccArNq2UvALaabLAA3E8w6Hph1\n",
      "Succesfully scraped 1BLQS9g7nX2bWPKyLp4db9WxvZxpZQPWMq\n",
      "Succesfully scraped 3DfAdUxTqmXgjdFAH5YYuTX7vcpqAgxiVN\n",
      "Succesfully scraped 3NxYb9saP2FdiKASkNPZtMGcTS8dZo4gb3\n",
      "Succesfully scraped 3EYyC2HW7r6LPhScf6CJvwzLrk9sgRKNR6\n",
      "Succesfully scraped 3NbfXQKRp5TMyHkuf7GycbbNJZbh6EUDxY\n",
      "Succesfully scraped 1NDyJtNTjmwk5xPNhjgAMu4HDHigtobu1s\n",
      "Succesfully scraped 1EMXZy6qubGAsPAEU7dw1im6cqP8abuENk\n",
      "Succesfully scraped 1CwgjNY2BgKdgdLyBVuQZ9tWQUX7SoiDGs\n",
      "Succesfully scraped 15DKCQxWSucdcUpB6Nb54nEsbsVjVyWvdx\n",
      "Succesfully scraped 3EUETv1SJFED7yikBxvPVF8cFHgsMBnaJz\n",
      "Succesfully scraped 3AqaajWfJtiDJtFLM8DCxNt62HE8iRLptA\n",
      "Succesfully scraped 14pyqXYhupm1tBQt45FfD2Yz5kpq5P5KfE\n",
      "Succesfully scraped 1GfwUxoUshW6D1rfYjRwahG3GYTZ4j75tz\n",
      "Succesfully scraped 17v4J4AYcEkwMpQavYvAtdpZLzFFVdNESu\n",
      "Succesfully scraped 1JJh6eJSqCv5wSKVxfR3hnHVLy7GAEHW3K\n",
      "Succesfully scraped 1LeKp5oSXkZEFf7ZnzV6T9XDYCGvYk3QEw\n",
      "Succesfully scraped 193KxTNzh7Msd9HQWwSFLraxPFGnTxgstV\n",
      "Succesfully scraped bc1qcc00376ups3sceaus5cnfcrctc0vl7n4wdm2pf\n",
      "Succesfully scraped 37bgyjLsgsf6HiGWgHK9EF65kCFMaFcqDp\n",
      "Succesfully scraped 39pEQx84AVJkr8kXgGEFTgz6wTtpREeXE2\n",
      "Succesfully scraped 3M5vxMZfqLKRfmJcAeVC8oqCbNFo3iitAc\n",
      "Succesfully scraped 35qq4kYqNJf4i2X3TUDeAcJqGCwGteKtYZ\n",
      "Succesfully scraped 39LMj4PmPB7rjK4VNa1Trpz7KkumxkUkBD\n",
      "Error at address 3NTFsy6EhPgMofXS9c5U79TZrJZbdZcTyD\n",
      "Succesfully scraped 3248raN8sv8SCZrmeJ3Z6UJpkYfsZVonS8\n",
      "Succesfully scraped 38pNEFTSUiX66ufq5EzVXx6xG8FyTa42wY\n",
      "Succesfully scraped 3JHMqFYDsy1mk1madCfpBcyLsDzPfiatYs\n",
      "Succesfully scraped 3PxE2xnfUBDKy9QHg6rqxqT9pTNTC5hY3s\n",
      "Succesfully scraped 3JMaAiAoMZDJSjzHmKdM6wSzfKhagqntNt\n",
      "Succesfully scraped 129N2C9MfeZ7AzyDvLpm89kMCgqasz59NL\n",
      "Succesfully scraped 17zYNuTdXhQC7oJXaAAdtMADnXc97wyqoq\n",
      "Succesfully scraped 18FYeTNG7SWrroWiw28AsNaak1yA1wbcJ6\n",
      "Succesfully scraped 1HASecwZcFYaHEdoEriA9CFcG3Bm4fanrr\n",
      "Succesfully scraped 36KwVUYDscBkXT1DeX7yAWq7Fokh7ExHk9\n",
      "Succesfully scraped 36SNev3YS5JViF2sE6xdexBUztFMfaEBDT\n",
      "Succesfully scraped 3MtPPfcSm9XhSqibaxBS3pj4fKKw3uBYeg\n",
      "Succesfully scraped 32tgGwZ9paqowTo35QKSXjFELHAiPyGWHR\n",
      "Succesfully scraped 3FKfmHxamhzKsd4rQnoAfMzUmmdEoaabch\n",
      "Succesfully scraped 1LMcNxLkU91dNnGTas2QC8MMkzRi6Ro9B4\n",
      "Error at address 353NNjjYTPprA1fDUkb5M9b7n7vFQpvrq3\n",
      "Succesfully scraped 1Hb9X83xRyLegLoKmxDJDE52UdPemM8Ec5\n",
      "Succesfully scraped 1BKdoT9JQ3TiPQwpWfPugGbSU5NVSY5EF\n",
      "Succesfully scraped 1CksbQtj7ohagh43RiJ9su58njkBJRUNhb\n",
      "Succesfully scraped 3E35MipNsaVz9NJeVZ8mHM1zBEwqq5EMgE\n",
      "Error at address 3C4bab2ozrHgv6VE5oh7GATH2WN5gULcYa\n",
      "Error at address 1H1ghWBzuaY1g53BzrtzscdsyChmXGCmPQ\n",
      "Error at address 1LZdinubctPXaZnWV5wLgAu8DRVm9xBhv8\n",
      "Error at address 3Khnx4ke7kYMVfnCXeTbXgwwF9Su9vWgMP\n",
      "Succesfully scraped 18DukytVkM6qfmyYJeeg2AnV8DaZdCBcbs\n",
      "Succesfully scraped 3FBWM22BekexGC4qWQ7LbARaEQzz9o4cBz\n",
      "Succesfully scraped bc1qlsh7gjsf9a8fanmqqznfxuhhzuqc5yqkcdva0j\n",
      "Succesfully scraped 1GWXTv2g4fdp165AZcELse3PGMP7hRZ3Aq\n",
      "Succesfully scraped 3DUFzGCv2VLPAUSrMJ8ypN23vQZ1Y6Moy7\n",
      "Succesfully scraped 1EVjXA75xFE8t7qwmKwkGJRyKz2RhxkXo3\n",
      "Succesfully scraped 1GJJVwcbT5kHwhDseD6pSrfwQP1ZpiBrCs\n",
      "Succesfully scraped 1D8bSMnZApNoxyXsTFrpRzV2au9wAsqYMr\n",
      "Succesfully scraped 16nT6xiqkFghucf2kPsVGD1irHekR12ErS\n",
      "Succesfully scraped 1ECmyM8MKow659dJKg3tA9DybVTV4MaGsJ\n",
      "Succesfully scraped 3QSBEMTptKpePctYYhpdbF4qk5xXHZQFeB\n",
      "Succesfully scraped 1FJp3saoLxb6cRZM6cutq6XV8Dh8h1Vsaf\n",
      "Succesfully scraped 15Nb6wuVrxvdwV6zKbFAsbzmygcAU3bpJD\n",
      "Succesfully scraped 1J741yhh4KEUGQ11b8QLDosjqz1BrfUmE\n",
      "Succesfully scraped 32PD3APUC9zh78fDT3KGZUjFNJ5D1TMBM1\n",
      "Succesfully scraped 3A7439dQK6kgkGRzuMKHM4Mhc2ANZ6Zcrt\n",
      "Succesfully scraped 3GUCZbm4YN2sSGgdBa6NrFNb3R1HS1WVwf\n",
      "Succesfully scraped 1EsNe5JSuxhxXx6bnqTXh9FHkzTYzBkDRt\n",
      "Succesfully scraped 31iLWQCrEHXA6yyUFmQEikgQbGynEA6WTj\n",
      "Succesfully scraped 3L7zLgSZBoSTruE8L5EbDazoqqMinLJ5d3\n",
      "Succesfully scraped 1BbwDWufs81b129brLkfs6AUxRuxGk2h1D\n",
      "Succesfully scraped 1DZVZGzmaf1NgUu3hNsxWgMNHFf4vFGaiH\n",
      "Succesfully scraped 3E144AzeP4kfADoK6opbmzzUDUtenmw4xH\n",
      "Succesfully scraped 3Gfv1MQwQGZcN2eBgkJdr67BMwSJztksRU\n",
      "Succesfully scraped 1GuW7dd9DWguWsHqm72PP85jv4Drw7i4Sz\n",
      "Succesfully scraped 32gmiXaFQ4czhnfWmtmuFQQjhY7zxv6Nbn\n",
      "Succesfully scraped 3DhMFBjMaMiHDdzRqpqEyqFJBNj2ubUTz3\n",
      "Succesfully scraped 1HcK58DrbgyzA8MdsmJcti937puR2zNWZi\n",
      "Succesfully scraped 14WBN1dEZKdi4UBMawte3uGhTKp7gBLivT\n",
      "Succesfully scraped 3LJNYb1XTFYvkn5AT5A7WfoTuWKz35WdrW\n",
      "Succesfully scraped 1D24M8QaoNHXNLWmZfZCMznpGgPDFWRxUW\n",
      "Succesfully scraped 1NCiEZ9TmUXsJEHo8TEagTwNr1qqfkWXWc\n",
      "Succesfully scraped 1HQhJCQP5oKfj2oXUD1N338itoyqayZ7aT\n",
      "Succesfully scraped 1AcDFAsz92mBSKGgMT2WKz2wj5p8Q6ENgV\n",
      "Succesfully scraped 3KMDrSKyu7BLtk7UR3bVba3eixdoVSWYfi\n",
      "Succesfully scraped 1Krt7nEgQcPa4cD34AZMHeRSpv97V9nSBC\n",
      "Succesfully scraped 1DLH5UAdhBfJvnLEuwwV5PPwEWv9w4o8da\n",
      "Succesfully scraped 3KvDs3fj53FGyyzcpZ9t3rBZ5AQFY5AzMB\n",
      "Succesfully scraped 36U4ysvRGmZoDQhYkHEgjLk9LnSnRks2Ye\n",
      "Succesfully scraped 3CzbYoKm96HDnRmLuKWnLxcF3Aihm9GeF2\n",
      "Succesfully scraped 3CoE6wgpAdNRZ5UfgmVCmaSyigaG51j6xN\n",
      "Succesfully scraped 19svZTXmLurz2HZ4v4ts4bFE9MvYy16by3\n",
      "Succesfully scraped 3MnYGHG2Tk2f3sFEb54pcJxjYW3uahKkKX\n",
      "Succesfully scraped 1y4Uu9pvZqQuSsUSc1vXKbBjBSpXRxoVC\n",
      "Succesfully scraped 3357nDGebY6KYwKvfqpqGxGLcxcRzb3uUe\n",
      "Succesfully scraped 19o85q2qkqcu5SHMHzRGuaxarVj9i2wLU6\n",
      "Succesfully scraped 3BB1uY2P1juoPAq8Qrzhyj1pHrgLBSTi2Y\n",
      "Succesfully scraped 194cqPTKrCFYoNrjkLuWG97xKS7e8XuoCJ\n",
      "Succesfully scraped 1Jcs438kKSWWTVEBiZsKmXTjSui9rf4JaX\n",
      "Succesfully scraped 1C42APDuK7mKENLRhN3nD935tGqpsqsB7G\n",
      "Succesfully scraped 18xsZiW5t6ZNmzbPvahVvcwusSpFntekaw\n",
      "Succesfully scraped 19mJtVUAqAX4oXXzmdxCMaAAEZx6GpswK6\n",
      "Succesfully scraped 1LXpiPWg2nr11RgpozmQDijhVFrjUJqzZv\n",
      "Succesfully scraped 3LEqVGFrcY2kFxXkoneezMBUqUSmgQUUZr\n",
      "Succesfully scraped 1AKigED1pPx9TksA1CzH5uFZVuRi2HzGT4\n",
      "Succesfully scraped 17qb6DL93DxzgjGty5fpeEd6bdmCSaV2go\n",
      "Succesfully scraped 36LwAXvpKFWDGrmRywZQzpZe5y6tEcLZJw\n",
      "Succesfully scraped 3JJe5htJhpJXgqjA2QhPSkbBH1wYBbWHEV\n",
      "Succesfully scraped 1M4G8MdSBUCda6oT8sRqVJm7k9ms9mbGFR\n",
      "Succesfully scraped 3BMa5tJ4LvzdRhGRfn51mTwu1rfCUypbSp\n",
      "Succesfully scraped 1CT4r9JHeXcDpeyxXCdyfHT6uPp4zSz65R\n",
      "Succesfully scraped 1GfWi1Bfu11ZAz35Yqp2CJZAodZAGTUf5F\n"
     ]
    }
   ],
   "source": [
    "for address in tb_scraped:\n",
    "    \n",
    "    time.sleep(20)\n",
    "\n",
    "    try:    \n",
    "        output_address_data = requests.get('https://blockchain.info/rawaddr/{}'.format(address)).json()\n",
    "        output_dict[address] = output_address_data\n",
    "\n",
    "        with open('1Lm9BCDUKoBUk888DCXewM5p8bJyr83cEp_connections.json', 'w') as fp:\n",
    "            json.dump(output_dict, fp)\n",
    "\n",
    "        print(\"Succesfully scraped {}\".format(address))\n",
    "    except:\n",
    "        print(\"Error at address {}\".format(address))"
   ]
  },
  {
   "cell_type": "code",
   "execution_count": 31,
   "metadata": {
    "collapsed": true
   },
   "outputs": [
    {
     "name": "stdout",
     "output_type": "stream",
     "text": [
      "Succesfully scraped 1BThnRwVPmAnfhk3jv4sbu2asqzwAYnD1a\n",
      "Succesfully scraped 14hMndJ5eQpeWCS5gGC8jWESMwC3hYp7w6\n",
      "Succesfully scraped 1Ps2wUfQMqyyqYSQ5ZRGdq4XXwUycNP8ZL\n",
      "Succesfully scraped 1P6d5jNuDfpbYw5otcsYkCTE6HF4kUfCDA\n",
      "Succesfully scraped 1sBFdf44aRKBUczFzG1mTH9wKREpLJSvG\n",
      "Succesfully scraped 14koyL9vuAMb1PyRPJscurCrsRXswKwQtC\n",
      "Succesfully scraped 1PJCSh3qYBYitWhne9dSxDTZuoC1mzLhyD\n",
      "Succesfully scraped 1PM4jtnodppMhNsXjCYCVU6AZeXSoikBMX\n",
      "Succesfully scraped 16G4jWNuCJ2uHMxDiMWFwv8K9RRHo9c4NJ\n",
      "Succesfully scraped 17QAWGVpFV4gZ25NQug46e5mBho4uDP6MD\n",
      "Succesfully scraped 1Mu3JcqzczUinAFsUhcbvUTmQM7tcTLosB\n",
      "Succesfully scraped 1DKPZvSF3zGqGA9Qu51gM2vLbwbX4WfQvJ\n",
      "Succesfully scraped 1GmY73q24B61YfMfmqssEWj8oSe2zRPsK8\n",
      "Succesfully scraped 3LuVbzNdhSZaaoJiq3Yu3LtcYWcsPjqF9t\n",
      "Succesfully scraped 1B9VCEjtJWRkBJxY3JSDwwqQwj3hppm419\n",
      "Succesfully scraped 1MohUS3AHUjpf7YBrHAGWYNPj7en6s4ayr\n",
      "Succesfully scraped 1HRaXE6BLTbTck3QJHwNSDRXLpcMNoRhzB\n",
      "Succesfully scraped 1HExKDjstytfmZzLjqd2ivkArBuJYQxPjQ\n",
      "Succesfully scraped 1D7fatvkPgBjrC1Mw7pgNxJnYvTAxm57A5\n",
      "Succesfully scraped 3MUynM3CKF3eRqtYmhGPJoy4HZB7ww2jVd\n",
      "Succesfully scraped 1A4MoD4m99B23w5fxf7Uo1yJu7e7M5vPMu\n",
      "Succesfully scraped 1HVJuzkBvF5Q2QzYPiCrNBDdMN6PbSKqgJ\n",
      "Succesfully scraped 1721nc11U34wfZ1wd83en6VXbN7YBBJhom\n",
      "Succesfully scraped 1BwFCDnyUsug5AEoKj2FTx4TaAL6xvD8r1\n",
      "Succesfully scraped 39Lr6aoWKd1EDZWzdUEu52j4gYTv85fmpj\n",
      "Succesfully scraped 31s4DdZYVPYawCqsGARVrVb3o4MYhWvBSc\n",
      "Succesfully scraped 3JWMkDnJboHfegpDWgM1DEoj3cNeQew2Mk\n",
      "Succesfully scraped 1MZQbbEACsAUppqqeuXbP6wwVK6bqHcPJ3\n",
      "Succesfully scraped 1NB3FEmUvPCFwN6AdrMib67SHGAX6iTCVD\n",
      "Succesfully scraped 3MgT7gCB6Bmcm4PjSvtxXtBxYyL88ouspM\n",
      "Succesfully scraped 13DDmjMJUB7Tep8ehWktZZ7wSEgu2Zduuh\n",
      "Succesfully scraped 1AGRmCcb7mYL3rkoxXy769fkZ27dhVMagM\n",
      "Succesfully scraped bc1q746a5nk7cxf0qyyvtfj4d9nz803c8m0spafqn0n2h2xdzdtk83zsf9x66z\n",
      "Succesfully scraped 1HKLL5FjQ3RGexkMNit2YbtnSCZDsNMSDd\n",
      "Succesfully scraped 1ArNBbU6BdVmwmbxVDZB3f8Tu3vjhJzp63\n",
      "Succesfully scraped 1AYyggmMfc9ws3EQR8bVVnaT5cRTdDph4y\n",
      "Succesfully scraped 13pXvD1pFkMnenbzdxVbDReGZrsoPstuws\n",
      "Succesfully scraped 19YvHvWqqVT9ry4NugCfHLCRmmApXpNga7\n",
      "Succesfully scraped 1DBxvpRXtX6uBuUNgLQu1mE1Xbx2dASxx2\n",
      "Succesfully scraped 19aYkKU2obg9Aiu6SreYXYn42SzWqNkuVH\n",
      "Succesfully scraped 1NHYYEciUiPjnquFHka52uFNMNKh5kdhmK\n",
      "Succesfully scraped 1P5pAXLufk28EawNv39PzYN2ohtDKA64gY\n",
      "Succesfully scraped 12CVJjQJniPEWthZpZ4du6ZWTdrdw8DwRZ\n",
      "Succesfully scraped 1vFmJiAF5c8aTaxVq6ngmds2pnTECnn7h\n",
      "Succesfully scraped 1ABY57h1yxoECk5uQ63krvUEDq2FdBL81t\n",
      "Succesfully scraped 12vkLxob3o845vrCsgLEBTTbvmf6BPEi6s\n",
      "Succesfully scraped 1N1jookWyjznTqPimZAw5tPYFZ4yCH8fD9\n",
      "Succesfully scraped 1GnhKhDFwXFzfdf5Cgp4Ube6tPV9RYZK4w\n",
      "Succesfully scraped 1K5iBfMPCEXtQrH4Ts2ayjPwaPzeKLERKG\n",
      "Succesfully scraped 19ZhHuuy6ayPdyPK931kum3Qux5qkwbjta\n",
      "Succesfully scraped 19SqTHBVqDzJXre1c5avXyHnSTQebVV4ec\n"
     ]
    }
   ],
   "source": [
    "for nested in identity['from']:\n",
    "    \n",
    "    address = nested[0]\n",
    "    \n",
    "    time.sleep(20)\n",
    "\n",
    "    try:    \n",
    "        output_address_data = requests.get('https://blockchain.info/rawaddr/{}'.format(address)).json()\n",
    "        output_dict[address] = output_address_data\n",
    "\n",
    "        with open('1Lm9BCDUKoBUk888DCXewM5p8bJyr83cEp_connections.json', 'w') as fp:\n",
    "            json.dump(output_dict, fp)\n",
    "\n",
    "        print(\"Succesfully scraped {}\".format(address))\n",
    "    except:\n",
    "        print(\"Error at address {}\".format(address))"
   ]
  },
  {
   "cell_type": "markdown",
   "metadata": {},
   "source": [
    "## Detecting potential change address"
   ]
  },
  {
   "cell_type": "code",
   "execution_count": 214,
   "metadata": {},
   "outputs": [],
   "source": [
    "potential_change_addresses = []  # This list contains all addresses in transactions that satisfy condition 1"
   ]
  },
  {
   "cell_type": "code",
   "execution_count": 215,
   "metadata": {
    "collapsed": true
   },
   "outputs": [
    {
     "name": "stdout",
     "output_type": "stream",
     "text": [
      "TS time 2021-04-28 12:03:10\n",
      "Change address at index: 1\n",
      "TS time 2021-02-04 11:55:05\n",
      "TS time 2021-04-28 12:03:10\n",
      "TS time 2021-01-24 16:19:15\n",
      "TS time 2021-04-28 12:03:10\n",
      "TS time 2021-01-24 13:00:05\n",
      "TS time 2021-01-24 10:53:54\n",
      "TS time 2021-01-24 10:32:42\n",
      "TS time 2021-04-28 12:03:10\n",
      "TS time 2021-01-22 13:35:36\n",
      "TS time 2021-04-28 12:03:10\n",
      "TS time 2021-01-21 21:06:17\n",
      "TS time 2021-01-21 15:17:12\n",
      "TS time 2021-04-28 12:03:10\n",
      "Change address at index: 25\n",
      "TS time 2021-04-28 12:03:10\n",
      "TS time 2021-04-28 12:03:10\n",
      "Change address at index: 28\n",
      "TS time 2021-04-28 12:03:10\n",
      "TS time 2021-01-18 18:57:24\n",
      "Change address at index: 35\n",
      "TS time 2021-04-28 12:03:10\n",
      "TS time 2021-01-17 18:13:33\n",
      "TS time 2021-01-17 18:13:33\n",
      "Change address at index: 40\n",
      "TS time 2021-01-17 18:13:33\n",
      "Change address at index: 42\n",
      "TS time 2020-07-28 22:07:10\n",
      "TS time 2020-08-29 12:38:12\n",
      "TS time 2021-01-17 18:13:33\n",
      "TS time 2021-01-17 15:17:10\n",
      "TS time 2021-01-17 14:57:04\n",
      "TS time 2021-01-17 15:17:10\n",
      "Change address at index: 51\n",
      "TS time 2021-01-17 11:18:07\n",
      "Change address at index: 53\n",
      "TS time 2021-01-17 15:17:10\n",
      "Change address at index: 55\n",
      "TS time 2020-08-13 19:11:21\n",
      "TS time 2021-03-24 03:43:09\n",
      "TS time 2021-01-17 15:17:10\n",
      "TS time 2020-11-28 18:59:09\n",
      "TS time 2020-12-21 02:02:50\n",
      "TS time 2021-01-17 15:17:10\n",
      "TS time 2021-01-15 00:57:19\n",
      "Change address at index: 63\n",
      "TS time 2021-01-17 15:17:10\n",
      "TS time 2021-01-17 15:17:10\n",
      "TS time 2021-01-17 15:17:10\n",
      "TS time 2021-04-08 21:20:00\n",
      "Change address at index: 68\n",
      "TS time 2020-09-09 15:31:13\n",
      "TS time 2021-04-16 19:25:58\n",
      "TS time 2019-12-24 01:20:09\n",
      "TS time 2020-10-02 16:53:14\n",
      "TS time 2020-06-19 05:31:31\n",
      "Change address at index: 74\n",
      "TS time 2020-11-27 17:18:46\n",
      "TS time 2021-01-17 15:17:10\n",
      "TS time 2021-03-01 12:57:43\n",
      "Change address at index: 78\n",
      "Change address at index: 79\n",
      "TS time 2021-01-17 15:17:10\n",
      "Change address at index: 81\n",
      "TS time 2021-04-15 22:40:28\n",
      "TS time 2020-08-11 07:28:42\n",
      "TS time 2019-12-07 04:03:25\n",
      "TS time 2021-01-12 22:57:56\n",
      "TS time 2021-04-28 12:03:10\n",
      "Change address at index: 89\n",
      "TS time 2021-04-28 12:03:10\n",
      "TS time 2021-01-10 15:31:56\n",
      "TS time 2021-04-28 12:03:10\n",
      "TS time 2021-01-09 22:58:16\n",
      "TS time 2021-04-28 12:03:10\n",
      "TS time 2021-04-28 12:03:10\n",
      "TS time 2021-01-07 18:58:23\n",
      "TS time 2021-01-07 16:26:22\n",
      "Change address at index: 103\n",
      "TS time 2021-04-28 12:03:10\n",
      "TS time 2021-01-06 11:38:15\n",
      "TS time 2021-01-06 11:28:21\n",
      "TS time 2021-01-06 11:28:21\n",
      "TS time 2020-12-31 21:58:56\n",
      "TS time 2020-08-02 04:45:09\n",
      "Change address at index: 110\n",
      "Change address at index: 111\n",
      "TS time 2020-10-05 10:04:33\n",
      "TS time 2021-01-06 11:28:21\n",
      "TS time 2021-01-04 21:57:15\n",
      "Change address at index: 116\n",
      "Change address at index: 117\n",
      "TS time 2020-12-06 09:43:39\n",
      "Change address at index: 119\n",
      "TS time 2021-01-06 11:28:21\n",
      "TS time 2021-01-06 11:28:21\n",
      "TS time 2020-09-30 13:56:33\n",
      "TS time 2020-08-31 10:20:03\n",
      "TS time 2021-04-01 16:08:52\n",
      "TS time 2021-01-06 11:28:21\n",
      "TS time 2019-09-19 21:50:02\n",
      "TS time 2020-11-01 03:17:31\n",
      "TS time 2020-10-26 00:59:02\n",
      "TS time 2021-01-06 11:28:21\n",
      "TS time 2021-01-06 11:28:21\n",
      "TS time 2021-01-06 11:28:21\n",
      "Change address at index: 134\n",
      "Change address at index: 135\n",
      "TS time 2020-08-25 09:16:22\n",
      "TS time 2021-01-06 11:28:21\n",
      "TS time 2021-01-06 11:28:21\n",
      "TS time 2021-01-06 11:28:21\n",
      "TS time 2019-05-07 05:56:37\n",
      "TS time 2021-01-06 11:28:21\n",
      "Change address at index: 142\n",
      "TS time 2020-11-20 06:18:39\n",
      "Change address at index: 144\n",
      "TS time 2020-10-15 09:53:53\n",
      "TS time 2020-07-22 20:22:15\n",
      "TS time 2020-12-30 06:23:40\n",
      "TS time 2020-11-25 23:28:21\n",
      "TS time 2021-01-06 11:19:45\n",
      "TS time 2021-01-06 11:28:21\n",
      "TS time 2021-02-27 10:25:25\n",
      "TS time 2021-01-06 11:28:21\n",
      "Change address at index: 154\n",
      "TS time 2021-01-06 11:28:21\n",
      "TS time 2020-11-15 07:21:53\n",
      "TS time 2021-01-06 11:28:21\n",
      "TS time 2020-12-28 14:51:06\n",
      "TS time 2021-01-06 11:28:21\n",
      "Change address at index: 160\n",
      "TS time 2021-01-05 09:02:46\n",
      "TS time 2021-01-03 16:32:57\n",
      "Change address at index: 163\n",
      "TS time 2020-11-19 12:44:52\n",
      "TS time 2021-04-25 12:01:25\n",
      "TS time 2021-01-19 07:14:50\n",
      "TS time 2020-09-23 15:53:27\n",
      "TS time 2021-04-22 13:53:09\n",
      "Change address at index: 170\n",
      "TS time 2021-01-06 11:28:21\n",
      "Change address at index: 172\n",
      "TS time 2021-01-07 15:15:53\n",
      "TS time 2021-01-06 11:28:21\n",
      "TS time 2020-09-24 19:00:49\n",
      "TS time 2021-04-07 13:56:04\n",
      "TS time 2021-01-06 11:28:21\n",
      "TS time 2021-04-28 12:03:10\n",
      "Change address at index: 179\n",
      "TS time 2021-01-03 20:58:45\n",
      "TS time 2021-04-28 12:03:10\n",
      "Change address at index: 183\n",
      "TS time 2021-04-28 12:03:10\n",
      "Change address at index: 185\n",
      "TS time 2021-04-28 12:03:10\n",
      "Change address at index: 190\n"
     ]
    }
   ],
   "source": [
    "transactions = edges_2021\n",
    "\n",
    "for index, row in transactions.iterrows():  # Loop over all transactions to check if this is target's first appearance\n",
    "    \n",
    "    output_address = row['target']\n",
    "    \n",
    "    try:\n",
    "    \n",
    "        output_address_transactions = output_dict[output_address]['txs']\n",
    "\n",
    "        # Get first transaction of output address (last transaction of txs list)\n",
    "        first_transaction_output_address = output_address_transactions[-1]\n",
    "\n",
    "        # Check if first transaction of output address is the present transaction\n",
    "        date_first_transaction = first_transaction_output_address['time']\n",
    "        date_current_transaction = row['timestamp']\n",
    "\n",
    "        if date_first_transaction == date_current_transaction:\n",
    "            if output_address not in potential_change_addresses:\n",
    "                potential_change_addresses.append(output_address)\n",
    "                print(\"Change address at index: {}\".format(index))\n",
    "        else:\n",
    "            print(\"TS time {}\".format(datetime.fromtimestamp(date_first_transaction)))\n",
    "            #print(\"O time {}\".format(row['datetime']))\n",
    "    except:\n",
    "        pass"
   ]
  },
  {
   "cell_type": "markdown",
   "metadata": {},
   "source": [
    "### 2.3 No address that is both input and output in same transaction"
   ]
  },
  {
   "cell_type": "code",
   "execution_count": 216,
   "metadata": {},
   "outputs": [],
   "source": [
    "transactions = transactions.drop_duplicates()"
   ]
  },
  {
   "cell_type": "code",
   "execution_count": 217,
   "metadata": {},
   "outputs": [],
   "source": [
    "for name, group in grouped_transactions:\n",
    "    \n",
    "    sources = group['source']\n",
    "    targets = group['target']\n",
    "    \n",
    "    for source in sources:\n",
    "        if source in group['target']:\n",
    "            potential_change_addresses = list(set(potential_change_addresses) - set(targets))"
   ]
  },
  {
   "cell_type": "markdown",
   "metadata": {},
   "source": [
    "### 2.4 All other output addresses in same transaction are not first appearing"
   ]
  },
  {
   "cell_type": "code",
   "execution_count": 218,
   "metadata": {},
   "outputs": [],
   "source": [
    "grouped_transactions = transactions.groupby(['amount', 'timestamp'])"
   ]
  },
  {
   "cell_type": "code",
   "execution_count": 219,
   "metadata": {},
   "outputs": [],
   "source": [
    "for name, group in grouped_transactions:\n",
    "    output_addresses = group['target']\n",
    "    \n",
    "    counter = 0\n",
    "    for output in output_addresses:\n",
    "        if output in potential_change_addresses:\n",
    "            counter +=1\n",
    "    if counter >= 2:\n",
    "        potential_change_addresses = list(set(potential_change_addresses) - set(output_addresses))\n",
    "            "
   ]
  },
  {
   "cell_type": "code",
   "execution_count": 220,
   "metadata": {},
   "outputs": [],
   "source": [
    "def change_address_to_id_from_input_heuristic(potential_changed_address, raw_transactions):\n",
    "    id_found = raw_transactions[[potential_changed_address in nested for nested in raw_transactions['to']]]['from_id'].tolist()\n",
    "    return(id_found)"
   ]
  },
  {
   "cell_type": "code",
   "execution_count": 152,
   "metadata": {},
   "outputs": [],
   "source": [
    "# for address in potential_change_addresses:\n",
    "#     print(change_address_to_id_from_input_heuristic(address, raw_transactions)[0][0])"
   ]
  },
  {
   "cell_type": "code",
   "execution_count": 221,
   "metadata": {
    "scrolled": true
   },
   "outputs": [],
   "source": [
    "for address in potential_change_addresses:\n",
    "    id_match = change_address_to_id_from_input_heuristic(address, raw_transactions)[0][0]\n",
    "    identity.at[identity.index[identity.id == id_match].tolist()[0], 'from'] += [address]\n"
   ]
  },
  {
   "cell_type": "code",
   "execution_count": 222,
   "metadata": {},
   "outputs": [],
   "source": [
    "raw_transactions['from_id'] = raw_transactions['from'].apply(mapping_from, identity = identity).apply(set).apply(list)\n",
    "raw_transactions['to_id'] = raw_transactions['to'].apply(mapping, identity = identity)\n",
    "edges = edge_creator(raw_transactions)"
   ]
  },
  {
   "cell_type": "code",
   "execution_count": 262,
   "metadata": {},
   "outputs": [],
   "source": [
    "nodes = list(set(edges['sender'].tolist() + edges['receiver'].tolist()))"
   ]
  },
  {
   "cell_type": "code",
   "execution_count": 349,
   "metadata": {},
   "outputs": [
    {
     "name": "stdout",
     "output_type": "stream",
     "text": [
      "The total number of accounts after applying the heuristics is 477\n"
     ]
    }
   ],
   "source": [
    "print('The total number of accounts after applying the heuristics is {}'.format(len(nodes)))"
   ]
  },
  {
   "cell_type": "markdown",
   "metadata": {},
   "source": [
    "## Create ego network"
   ]
  },
  {
   "cell_type": "markdown",
   "metadata": {},
   "source": [
    "#### Get transactions of the accounts that interacted with the ego"
   ]
  },
  {
   "cell_type": "code",
   "execution_count": 248,
   "metadata": {},
   "outputs": [],
   "source": [
    "raw_transactions_all = [output_dict[address]['txs'] for address in output_dict]"
   ]
  },
  {
   "cell_type": "markdown",
   "metadata": {},
   "source": [
    "#### Convert the transaction dataframe into an edge table"
   ]
  },
  {
   "cell_type": "code",
   "execution_count": 275,
   "metadata": {},
   "outputs": [],
   "source": [
    "raw_transactions_edges = pd.DataFrame(columns=['from','to','amount','timestamp'])\n",
    "# Get table of transactions in raw form\n",
    "for address in raw_transactions_all:\n",
    "    try:\n",
    "        raw_transactions_edges = raw_transactions_edges.append(get_edge_list(address))\n",
    "    except:\n",
    "        pass\n",
    "    \n",
    "raw_transactions_edges.reset_index(inplace=True)"
   ]
  },
  {
   "cell_type": "markdown",
   "metadata": {},
   "source": [
    "#### Select only transactions happened in 2021"
   ]
  },
  {
   "cell_type": "code",
   "execution_count": 276,
   "metadata": {},
   "outputs": [],
   "source": [
    "raw_transactions_edges['Date'] = [datetime.fromtimestamp(timestamp) for timestamp in raw_transactions_edges['timestamp']]\n",
    "raw_transactions_edges = raw_transactions_edges.loc[raw_transactions_edges.Date>parse('2021-01-01'), :]\n",
    "raw_transactions_edges.drop(columns=['Date'], inplace = True)"
   ]
  },
  {
   "cell_type": "markdown",
   "metadata": {},
   "source": [
    "#### Map with unique identifiers"
   ]
  },
  {
   "cell_type": "code",
   "execution_count": 284,
   "metadata": {
    "scrolled": true
   },
   "outputs": [],
   "source": [
    "raw_transactions_edges['id'] = range(len(raw_transactions_edges))\n",
    "raw_transactions_edges['from_id'] = raw_transactions_edges['from'].apply(mapping_from, identity = identity).apply(set).apply(list)\n",
    "raw_transactions_edges['to_id'] = raw_transactions_edges['to'].apply(mapping, identity = identity)"
   ]
  },
  {
   "cell_type": "markdown",
   "metadata": {},
   "source": [
    "#### Select only edges that include accounts that appear in the edge list of the ego"
   ]
  },
  {
   "cell_type": "code",
   "execution_count": 285,
   "metadata": {},
   "outputs": [],
   "source": [
    "def is_in_list2(list_in, list_preset):\n",
    "    return(any([element in list_preset for element in list_in]))\n",
    "\n",
    "ego_network_transactions = raw_transactions_edges[raw_transactions_edges.from_id.apply(is_in_list2, list_preset = nodes) & raw_transactions_edges.to_id.apply(is_in_list2, list_preset = nodes)]"
   ]
  },
  {
   "cell_type": "code",
   "execution_count": 286,
   "metadata": {},
   "outputs": [],
   "source": [
    "edges_ego_network = edge_creator(ego_network_transactions)"
   ]
  },
  {
   "cell_type": "code",
   "execution_count": 290,
   "metadata": {},
   "outputs": [],
   "source": [
    "edges_ego_network = edges_ego_network.drop_duplicates()"
   ]
  },
  {
   "cell_type": "code",
   "execution_count": 314,
   "metadata": {},
   "outputs": [],
   "source": [
    "edges_ego_network.columns = ['source', 'target', 'amount', 'timestamp']\n",
    "edges.columns = ['source', 'target', 'amount', 'timestamp']"
   ]
  },
  {
   "cell_type": "markdown",
   "metadata": {},
   "source": [
    "#### Merge edges of others with edges of the ego"
   ]
  },
  {
   "cell_type": "code",
   "execution_count": 317,
   "metadata": {},
   "outputs": [],
   "source": [
    "edges_ego_network = pd.concat([edges_ego_network, edges])"
   ]
  },
  {
   "cell_type": "code",
   "execution_count": 318,
   "metadata": {},
   "outputs": [],
   "source": [
    "edges_ego_network.to_csv('/home/massi/my_project_dir/blockChain/data/ego_network_data.csv', index=False)"
   ]
  },
  {
   "cell_type": "code",
   "execution_count": 302,
   "metadata": {},
   "outputs": [
    {
     "data": {
      "text/plain": [
       "3198"
      ]
     },
     "execution_count": 302,
     "metadata": {},
     "output_type": "execute_result"
    }
   ],
   "source": [
    "len(set(edges_ego_network['source'].tolist() + edges_ego_network['target'].tolist()))"
   ]
  },
  {
   "cell_type": "markdown",
   "metadata": {},
   "source": [
    "#### Get ego network of degree 1"
   ]
  },
  {
   "cell_type": "code",
   "execution_count": 308,
   "metadata": {},
   "outputs": [],
   "source": [
    "edges_network_only_nodes = edges_ego_network[edges_ego_network.source.isin(nodes) & edges_ego_network.target.isin(nodes)]"
   ]
  },
  {
   "cell_type": "code",
   "execution_count": 319,
   "metadata": {},
   "outputs": [],
   "source": [
    "edges_network_only_nodes = pd.concat([edges_network_only_nodes, edges])"
   ]
  },
  {
   "cell_type": "code",
   "execution_count": 320,
   "metadata": {},
   "outputs": [],
   "source": [
    "edges_network_only_nodes.to_csv('/home/massi/my_project_dir/blockChain/data/ego_network_data_only_nodes.csv', index=False)"
   ]
  }
 ],
 "metadata": {
  "kernelspec": {
   "display_name": "Python 3",
   "language": "python",
   "name": "python3"
  },
  "language_info": {
   "codemirror_mode": {
    "name": "ipython",
    "version": 3
   },
   "file_extension": ".py",
   "mimetype": "text/x-python",
   "name": "python",
   "nbconvert_exporter": "python",
   "pygments_lexer": "ipython3",
   "version": "3.6.9"
  }
 },
 "nbformat": 4,
 "nbformat_minor": 4
}
