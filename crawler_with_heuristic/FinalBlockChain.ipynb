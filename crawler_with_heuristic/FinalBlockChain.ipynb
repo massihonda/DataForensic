{
 "cells": [
  {
   "cell_type": "code",
   "execution_count": 1,
   "metadata": {},
   "outputs": [],
   "source": [
    "import requests\n",
    "import pandas as pd\n",
    "import time\n",
    "from datetime import datetime, timedelta\n",
    "from dateutil.parser import parse\n",
    "import copy"
   ]
  },
  {
   "cell_type": "code",
   "execution_count": 2,
   "metadata": {},
   "outputs": [],
   "source": [
    "def intersect(s1, s2):\n",
    "    return(len(s1.intersection(s2))>0)\n",
    "\n",
    "def map_addresses_with_id(ego_edge_list, identity):\n",
    "    \n",
    "    from_list = [nested for nested in get_id_from_address(ego_edge_list['from'], identity)]\n",
    "    to_list = [nested for nested in get_id_from_address(ego_edge_list['to'], identity)]\n",
    "    \n",
    "    ego_edge_list['from_id'] = from_list\n",
    "    ego_edge_list['to_id'] = to_list\n",
    "    \n",
    "    return(ego_edge_list)\n",
    "\n",
    "def merger(identity):\n",
    "    \n",
    "    copy_identity = copy.deepcopy(identity)    \n",
    "    end = len(identity['from'])\n",
    "    idx = 0\n",
    "    \n",
    "    while idx < len(copy_identity['from']):\n",
    "\n",
    "        from1 = copy_identity.iloc[idx,0]\n",
    "        from1_idx = copy_identity.iloc[idx,:].index\n",
    "        idxes_mtch = copy_identity.index[copy_identity['from'].apply(set).apply(intersect, s2=set(from1))].tolist()\n",
    "\n",
    "        if len(idxes_mtch)>1:\n",
    "            for to_remove in idxes_mtch[1:]:\n",
    "                #copy_identity.loc[idxes_mtch[0], 'from'].extend(copy_identity.loc[to_remove, 'from'])\n",
    "                copy_identity.at[idxes_mtch[0], 'from'] = copy_identity.at[idxes_mtch[0], 'from'] + copy_identity.at[to_remove, 'from']\n",
    "            copy_identity.drop(idxes_mtch[1:], inplace = True)\n",
    "            \n",
    "            end = len(copy_identity['from'])\n",
    "        idx += 1\n",
    "        \n",
    "    return(copy_identity)"
   ]
  },
  {
   "cell_type": "code",
   "execution_count": 3,
   "metadata": {},
   "outputs": [],
   "source": [
    "def get_info_from_address(address):\n",
    "    r =requests.get('https://blockchain.info/rawaddr/' + address).json()\n",
    "    r = r['txs']\n",
    "    return(r)\n",
    "\n",
    "def get_transactions_from_addresses(address_list):\n",
    "    \n",
    "    raw_transactions = pd.DataFrame(columns=['from','to','amount','timestamp'])\n",
    "    # Get table of transactions in raw form\n",
    "    for address in address_list:\n",
    "        try:\n",
    "            request_info = get_info_from_address(address)\n",
    "            raw_transactions = raw_transactions.append(get_edge_list(request_info))\n",
    "            time.sleep(20)\n",
    "            print('Completed address {}'.format(address))\n",
    "        except:\n",
    "            print(' Address {} raised exception'.format(address))\n",
    "    \n",
    "    raw_transactions.reset_index(inplace=True)\n",
    "    \n",
    "    return(raw_transactions)\n"
   ]
  },
  {
   "cell_type": "code",
   "execution_count": 4,
   "metadata": {},
   "outputs": [],
   "source": [
    "def get_edge_list(info_from_address):\n",
    "    \n",
    "    senders = create_sender_list(info_from_address)\n",
    "    receivers = create_receiver_list(info_from_address)\n",
    "    \n",
    "    edges_ego = pd.DataFrame({'from':senders, 'to':receivers, 'amount':amount_transferred_per_transaction(info_from_address), 'timestamp':create_timestamp_list_transaction(info_from_address)})\n",
    "    \n",
    "    return(edges_ego)\n",
    "\n",
    "def create_receiver_list(transaction_ego):\n",
    "    receiver_addresses = list()\n",
    "    issues_receiver = list()\n",
    "    amount = list()\n",
    "    for j in range(len(transaction_ego)):\n",
    "        receiver_addresses.append([])\n",
    "        amount.append([])\n",
    "        for i in range(len(transaction_ego[j]['out'])):\n",
    "            try:\n",
    "                receiver_addresses[-1].append(transaction_ego[j]['out'][i]['addr'])\n",
    "                amount[-1].append(transaction_ego[j]['out'][i]['value'])\n",
    "            except:\n",
    "                issues.append([i,j])\n",
    "    \n",
    "    return(receiver_addresses)\n",
    "\n",
    "\n",
    "def amount_transferred_per_transaction(transaction_ego):\n",
    "    \n",
    "    amount = list()\n",
    "    for j in range(len(transaction_ego)):\n",
    "        amount.append([])\n",
    "        for i in range(len(transaction_ego[j]['out'])):\n",
    "            try:\n",
    "                amount[-1].append(transaction_ego[j]['out'][i]['value'])\n",
    "            except:\n",
    "                 pass\n",
    "    \n",
    "    return(amount)\n",
    "\n",
    "\n",
    "def create_sender_list(transaction_ego):\n",
    "    \n",
    "    sender_addresses = list()\n",
    "    issues_sender = list()\n",
    "    for j in range(len(transaction_ego)):\n",
    "        sender_addresses.append([])\n",
    "        for i in range(len(transaction_ego[j]['inputs'])):\n",
    "            try:\n",
    "                sender_addresses[-1].append(transaction_ego[j]['inputs'][i]['prev_out']['addr'])\n",
    "            except:\n",
    "                issues.append([i,j])\n",
    "    return(sender_addresses)\n",
    "\n",
    "def create_timestamp_list_transaction(transaction_ego):\n",
    "    return([transaction_ego[i]['time'] for i in range(len(transaction_ego))])\n",
    "\n"
   ]
  },
  {
   "cell_type": "code",
   "execution_count": 5,
   "metadata": {},
   "outputs": [],
   "source": [
    "# Mapping functions\n",
    "\n",
    "# def get_id_from_address(address, identity_table):\n",
    "#     return(identity_table[[address in nested for nested in identity_table['from']]]['id'].tolist()[0])\n",
    "def mapping(address_list, identity):\n",
    "    return([get_id_from_address(address, identity) for address in address_list])\n",
    "\n",
    "def mapping_from(address_list, identity):\n",
    "    return([get_id_from_address(address_list[0], identity)])\n",
    "\n",
    "def get_id_from_address(address, identity_table):\n",
    "    id_found = identity_table[identity_table['from'].apply(is_in_list, address = address)]['id'].tolist()\n",
    "    \n",
    "    if len(id_found)==1:\n",
    "        return(id_found[0])\n",
    "    \n",
    "    elif len(id_found)>1:\n",
    "        print(id_found)\n",
    "    else:\n",
    "        return(address)\n",
    "\n",
    "def is_in_list(address_list, address):\n",
    "    return(address in address_list)"
   ]
  },
  {
   "cell_type": "code",
   "execution_count": 6,
   "metadata": {},
   "outputs": [],
   "source": [
    "def edge_creator(raw_transactions):\n",
    "    \n",
    "    edges = pd.DataFrame(columns = ['sender', 'receiver', 'amount', 'timestamp'])\n",
    "\n",
    "    for index_raw in range(len(raw_transactions)):\n",
    "        for index_receiver in range(len(raw_transactions.iloc[index_raw, -1])):\n",
    "            sender = raw_transactions.iloc[index_raw, -2][0]\n",
    "            receiver = raw_transactions.iloc[index_raw, -1][index_receiver]\n",
    "            amount = raw_transactions.iloc[index_raw, -5][index_receiver]\n",
    "            timestamp = raw_transactions.iloc[index_raw, -4]\n",
    "            edges = edges.append({'sender':sender, 'receiver': receiver, 'amount': amount, 'timestamp': timestamp}, ignore_index=True)\n",
    "    \n",
    "    return(edges)"
   ]
  },
  {
   "cell_type": "code",
   "execution_count": 7,
   "metadata": {},
   "outputs": [],
   "source": [
    "def flatten_nested_list(nested_list):\n",
    "    return([item for nested in  nested_list for item in nested])"
   ]
  },
  {
   "cell_type": "markdown",
   "metadata": {},
   "source": [
    "# Analysis of Terrorism Fund Raising"
   ]
  },
  {
   "cell_type": "code",
   "execution_count": 8,
   "metadata": {},
   "outputs": [],
   "source": [
    "# address_list = ['17QAWGVpFV4gZ25NQug46e5mBho4uDP6MD', \n",
    "#                 '1Lm9BCDUKoBUk888DCXewM5p8bJyr83cEp', \n",
    "#                 '186YZVryvtxuXESLo1jzYU1xoRgyd5WARN', \n",
    "#                 '1NDyJtNTjmwk5xPNhjgAMu4HDHigtobu1s', \n",
    "#                 '32cNfustcJXjz7afCGPuCuRpgZjcYJQsLE', \n",
    "#                 '3CUXTV35SteDufJyuSTSSWhHdrbnpbTXz9', \n",
    "#                 '3Fqne1QeMEGHVJwoz3m95fnDZvqfXL2Z4u', \n",
    "#                 '34xp4vRoCGJym3xR7yCVPFHoCNxv4Twseo', # receiver of 1NDyJtNTjmwk5xPNhjgAMu4HDHigtobu1s (it made a lot of transactions and a lot of money traffic)\n",
    "#                 '15K9Zj1AU2hjT3ebZMtWqDsMv3fFxTNwpf', \n",
    "#                 '34GzR7ytFGSviY6CttWH3uDV6QEy2n1JcD', \n",
    "#                 '3434fpnej1Y9cKb5pYwGXoeTnptmW3bXdq', \n",
    "#                 '123kGrVjKmvQAnjuNDuxMCnscFjNxoxnym', \n",
    "#                 '12Cojd2nCLaqtmvKXaAC5FFZ8HpqUa5i5C', \n",
    "#                 '12DWpXck5B3oQsp18NG22v57eBdMcHz326',\n",
    "#                 '14btpv9LnvJBRPwLqakvdHLUjfLsZrN7sK',\n",
    "#                 '19P5khHYGdsyGPX4xH8RMQxNaWbRCiqzZ3', \n",
    "#                 '1s8nW9cXRJtdHd1hQ1ZFFvgoUNkjKJcf8', \n",
    "#                 '197BDiQuWki4egPACYj1f2UtdZ2d4QiFP5', \n",
    "#                 '1DZ9iLykDrZgjMURNkbmokAwv17VsW998u', \n",
    "#                 '16YRiGSGLxKdLQPxiWeTgt8jrpZwRcxjQ3', \n",
    "#                 '1LDQhgUTEQJqzGTRPUY5EAthJvktixMnLE',\n",
    "#                 '1LdnTDv4Zs524aU2fifLi3vVHWhPL6Cgp1',\n",
    "#                 '1PLQFgpdEJQGQ9rMjEWP3gdKv1bJGu9fse',\n",
    "#                 '13kcud8fKBfeoRjym9wC7tfLu4skL5s27t',\n",
    "#                 '1F3twjJjFh6DeQWFNUxVCdLvZk1xNsee7T',\n",
    "#                 '1L6BbVSFpHCTibmHAGmtx4qVntRx2n58NX',\n",
    "#                 '1PVQiWq9ds3CsHF2h2wF6qoccxVenprSoQ',\n",
    "#                 '1AppUXgJnhGrBpbV1vG4XwnXUvenTYh3M4', \n",
    "                \n",
    "#                 'bc1qwfgdjyy95aay2686fn74h6a4nu9eev6np7q4fn204dkj3274frlqrskvx0',\n",
    "#                '1AupiZBi1bMVfcMgfFx4qcPtVWVgdvE29c',  # receiver of 1NDyJtNTjmwk5xPNhjgAMu4HDHigtobu1s\n",
    "#                  '37tRFZw7n94Jddq6TfVs3MbCXmDX6eMfeY' \n",
    "#                 '13s7sRxYi9iiCqgbefhk1MQiGzj9LNWUsy',\n",
    "#                 '14xQDjyBVXHFRpi9q2HDt1wTCigkDjRt8j', \n",
    "#                 '1CT58z7sbUyAEZPVkeqnMpnSBBCEEoSbfQ',\n",
    "#                  '1GX84MiXv4SjpPgTYjenmDxn3HL3nLJkot', \n",
    "#                 '1BixJDFzEBmh7uSzbebmeugro4i6G54ga3',\n",
    "#                 '1P8AYmUjH3kqoaW1qNXYBYKUA5RQ97ryEd',\n",
    "#                 '16rhvDAd64fMhpFcH5N7sh7QdyLLGy9M44', \n",
    "#                 '12jwNYodFi926PeMGpaqhdq7ZFLn2VAeon',\n",
    "#                 '16svEnyvUqFdXphdPC7ydPcAJAqYHXAhaa',\n",
    "#                  '1FYk7mGjbfW1jVz2dWNUYReENEJ6wqta9a', \n",
    "#                 '1A3VDjFVEToupAAQmyE2wSq2rNz3iuEqTX',\n",
    "#                 '13LNRzkFC8FMyZsosWtLcdcTiMLoVvLufk',\n",
    "#                 '13QWZ1sv5wwPfZxAa8a6MPeEPuVA7MK8rF',\n",
    "#                 '1AWGdz1PguoHPJ2zKHMnRthC7LoCbVf3PB', \n",
    "#                 '191BDVckuiY6Sf8QBWynCB81ib5JVwKhDx',\n",
    "#                 '1HUEp4RGdVYYuJWB4jkJ9B1UTLW7wqNC6X'\n",
    "#                ]"
   ]
  },
  {
   "cell_type": "code",
   "execution_count": 9,
   "metadata": {},
   "outputs": [],
   "source": [
    "address_list = ['1Lm9BCDUKoBUk888DCXewM5p8bJyr83cEp']"
   ]
  },
  {
   "cell_type": "code",
   "execution_count": 10,
   "metadata": {},
   "outputs": [
    {
     "name": "stdout",
     "output_type": "stream",
     "text": [
      "Completed address 1Lm9BCDUKoBUk888DCXewM5p8bJyr83cEp\n"
     ]
    }
   ],
   "source": [
    "raw_transactions = get_transactions_from_addresses(address_list)"
   ]
  },
  {
   "cell_type": "code",
   "execution_count": 11,
   "metadata": {},
   "outputs": [],
   "source": [
    "# Covert timestamps into date objects\n",
    "raw_transactions['Date'] = [datetime.fromtimestamp(timestamp) for timestamp in raw_transactions['timestamp']]"
   ]
  },
  {
   "cell_type": "markdown",
   "metadata": {},
   "source": [
    "#### Number of different accounts before heuristics:"
   ]
  },
  {
   "cell_type": "code",
   "execution_count": 12,
   "metadata": {},
   "outputs": [
    {
     "name": "stdout",
     "output_type": "stream",
     "text": [
      "The total number of addresses only in 2021 to be clustered with first heuristic: 2354\n"
     ]
    }
   ],
   "source": [
    "senders_2021 = len(set(flatten_nested_list(raw_transactions.loc[raw_transactions.Date>parse('2021-01-01'), 'from'])))\n",
    "print('The total number of addresses only in 2021 to be clustered with first heuristic: {}'.format(senders_2021))"
   ]
  },
  {
   "cell_type": "code",
   "execution_count": 13,
   "metadata": {},
   "outputs": [
    {
     "name": "stdout",
     "output_type": "stream",
     "text": [
      "The total number of different accounts before heuristics is 2500\n"
     ]
    }
   ],
   "source": [
    "number_of_accounts = len(set(flatten_nested_list(raw_transactions.loc[raw_transactions.Date>parse('2021-01-01'), 'from']) + flatten_nested_list(raw_transactions.loc[raw_transactions.Date>parse('2021-01-01'), 'to'])))\n",
    "print('The total number of different accounts before heuristics is {}'.format(number_of_accounts))"
   ]
  },
  {
   "cell_type": "code",
   "execution_count": 14,
   "metadata": {},
   "outputs": [],
   "source": [
    "# Remove Date column as not necessary\n",
    "raw_transactions.drop(columns=['Date'], inplace = True)"
   ]
  },
  {
   "cell_type": "markdown",
   "metadata": {},
   "source": [
    "### Apply Input Heuristic"
   ]
  },
  {
   "cell_type": "code",
   "execution_count": 15,
   "metadata": {},
   "outputs": [],
   "source": [
    "raw_transactions['id'] = range(len(raw_transactions))\n",
    "identity = copy.deepcopy(raw_transactions.loc[:, ['from','id']])\n",
    "identity = merger(identity)"
   ]
  },
  {
   "cell_type": "markdown",
   "metadata": {},
   "source": [
    "#### Map accounts' addresses with unique identifier"
   ]
  },
  {
   "cell_type": "code",
   "execution_count": 16,
   "metadata": {},
   "outputs": [],
   "source": [
    "raw_transactions['from_id'] = raw_transactions['from'].apply(mapping_from, identity = identity).apply(set).apply(list)\n",
    "raw_transactions['to_id'] = raw_transactions['to'].apply(mapping, identity = identity)\n",
    "edges = edge_creator(raw_transactions)"
   ]
  },
  {
   "cell_type": "code",
   "execution_count": 17,
   "metadata": {},
   "outputs": [],
   "source": [
    "#edges.to_csv('/home/massi/my_project_dir/blockChain/data/edges_final/edges.csv', index=False)"
   ]
  },
  {
   "cell_type": "markdown",
   "metadata": {},
   "source": [
    "#### Take only transactions happened in 2021"
   ]
  },
  {
   "cell_type": "code",
   "execution_count": 18,
   "metadata": {},
   "outputs": [
    {
     "name": "stderr",
     "output_type": "stream",
     "text": [
      "/home/massi/my_project_dir/my_project_env/lib/python3.6/site-packages/pandas/core/frame.py:3997: SettingWithCopyWarning: \n",
      "A value is trying to be set on a copy of a slice from a DataFrame\n",
      "\n",
      "See the caveats in the documentation: https://pandas.pydata.org/pandas-docs/stable/user_guide/indexing.html#returning-a-view-versus-a-copy\n",
      "  errors=errors,\n"
     ]
    }
   ],
   "source": [
    "edges['Date'] = [datetime.fromtimestamp(timestamp) for timestamp in edges['timestamp']]\n",
    "\n",
    "edges_2021 = edges[edges.Date>parse('2021-01-01')]\n",
    "edges_2021.columns = ['source', 'target', 'amount', 'timestamp', 'Date']\n",
    "edges_2021.drop(columns=['Date'], inplace = True)\n",
    "#edges_2021.to_csv('/home/massi/my_project_dir/blockChain/data/edges_final/edges_2021.csv', index=False)"
   ]
  },
  {
   "cell_type": "code",
   "execution_count": 19,
   "metadata": {},
   "outputs": [
    {
     "name": "stdout",
     "output_type": "stream",
     "text": [
      "2354 raw addresses where linked to 25 different persons.\n"
     ]
    }
   ],
   "source": [
    "number_people_2021 = len({el for el in set(pd.concat([edges_2021['source'], edges_2021['target']])) if type(el)==int})\n",
    "print('{} raw addresses where linked to {} different persons.'.format(senders_2021, number_people_2021))"
   ]
  },
  {
   "cell_type": "code",
   "execution_count": 20,
   "metadata": {},
   "outputs": [
    {
     "data": {
      "text/plain": [
       "170"
      ]
     },
     "execution_count": 20,
     "metadata": {},
     "output_type": "execute_result"
    }
   ],
   "source": [
    "nodes = len(set(pd.concat([edges_2021['source'], edges_2021['target']])))\n",
    "nodes"
   ]
  },
  {
   "cell_type": "markdown",
   "metadata": {},
   "source": [
    "#### Store accounts in the output that are not mapped yet"
   ]
  },
  {
   "cell_type": "code",
   "execution_count": 21,
   "metadata": {},
   "outputs": [],
   "source": [
    "tb_scraped = list(set(edges_2021.loc[[type(value) != int for value in edges_2021['target']], 'target']))"
   ]
  },
  {
   "cell_type": "code",
   "execution_count": 22,
   "metadata": {},
   "outputs": [],
   "source": [
    "#identity.to_csv('/home/massi/my_project_dir/blockChain/data/edges_final/identity.csv', index=False)"
   ]
  },
  {
   "cell_type": "markdown",
   "metadata": {},
   "source": [
    "# Second Heuristic"
   ]
  },
  {
   "cell_type": "code",
   "execution_count": 23,
   "metadata": {},
   "outputs": [],
   "source": [
    "import json"
   ]
  },
  {
   "cell_type": "code",
   "execution_count": 24,
   "metadata": {},
   "outputs": [],
   "source": [
    "#output_dict = dict()"
   ]
  },
  {
   "cell_type": "code",
   "execution_count": 25,
   "metadata": {},
   "outputs": [],
   "source": [
    "# for address in tb_scraped:\n",
    "    \n",
    "#     time.sleep(20)\n",
    "\n",
    "#     try:    \n",
    "#         output_address_data = requests.get('https://blockchain.info/rawaddr/{}'.format(address)).json()\n",
    "#         output_dict[address] = output_address_data\n",
    "\n",
    "#         with open('1Lm9BCDUKoBUk888DCXewM5p8bJyr83cEp_connections.json', 'w') as fp:\n",
    "#             json.dump(output_dict, fp)\n",
    "\n",
    "#         print(\"Succesfully scraped {}\".format(address))\n",
    "#     except:\n",
    "#         print(\"Error at address {}\".format(address))"
   ]
  },
  {
   "cell_type": "code",
   "execution_count": 26,
   "metadata": {},
   "outputs": [],
   "source": [
    "# for nested in identity['from']:\n",
    "    \n",
    "#     address = nested[0]\n",
    "    \n",
    "#     time.sleep(20)\n",
    "\n",
    "#     try:    \n",
    "#         output_address_data = requests.get('https://blockchain.info/rawaddr/{}'.format(address)).json()\n",
    "#         output_dict[address] = output_address_data\n",
    "\n",
    "#         with open('1Lm9BCDUKoBUk888DCXewM5p8bJyr83cEp_connections.json', 'w') as fp:\n",
    "#             json.dump(output_dict, fp)\n",
    "\n",
    "#         print(\"Succesfully scraped {}\".format(address))\n",
    "#     except:\n",
    "#         print(\"Error at address {}\".format(address))"
   ]
  },
  {
   "cell_type": "code",
   "execution_count": 27,
   "metadata": {},
   "outputs": [],
   "source": [
    "with open('1Lm9BCDUKoBUk888DCXewM5p8bJyr83cEp_connections.json') as output_test:\n",
    "    output_dict = json.load(output_test)"
   ]
  },
  {
   "cell_type": "markdown",
   "metadata": {},
   "source": [
    "## Detecting potential change address"
   ]
  },
  {
   "cell_type": "code",
   "execution_count": 28,
   "metadata": {},
   "outputs": [],
   "source": [
    "potential_change_addresses = []  # This list contains all addresses in transactions that satisfy condition 1"
   ]
  },
  {
   "cell_type": "code",
   "execution_count": 29,
   "metadata": {},
   "outputs": [
    {
     "name": "stdout",
     "output_type": "stream",
     "text": [
      "TS time 2021-04-28 12:03:10\n",
      "Change address at index: 1\n",
      "Change address at index: 2\n",
      "TS time 2021-04-28 12:03:10\n",
      "TS time 2021-01-24 16:19:15\n",
      "TS time 2021-04-28 12:03:10\n",
      "TS time 2021-01-24 13:00:05\n",
      "TS time 2021-01-24 10:53:54\n",
      "TS time 2021-01-24 10:32:42\n",
      "TS time 2021-04-28 12:03:10\n",
      "TS time 2021-01-22 13:35:36\n",
      "TS time 2021-04-28 12:03:10\n",
      "TS time 2021-01-21 21:06:17\n",
      "Change address at index: 20\n",
      "TS time 2021-04-28 12:03:10\n",
      "TS time 2021-01-19 20:56:58\n",
      "TS time 2021-04-28 12:03:10\n",
      "TS time 2021-04-28 12:03:10\n",
      "TS time 2021-01-19 18:57:42\n",
      "TS time 2021-04-28 12:03:10\n",
      "Change address at index: 33\n",
      "TS time 2021-01-18 02:57:15\n",
      "TS time 2021-04-28 12:03:10\n",
      "Change address at index: 38\n",
      "Change address at index: 39\n",
      "TS time 2021-01-17 18:13:24\n",
      "Change address at index: 41\n",
      "TS time 2021-01-17 18:13:24\n",
      "TS time 2020-07-28 22:07:10\n",
      "TS time 2020-08-29 12:38:12\n",
      "Change address at index: 45\n",
      "Change address at index: 48\n",
      "TS time 2021-01-17 14:57:04\n",
      "Change address at index: 50\n",
      "TS time 2021-01-17 15:17:01\n",
      "TS time 2021-01-17 11:18:07\n",
      "TS time 2021-01-17 15:17:01\n",
      "Change address at index: 54\n",
      "TS time 2021-01-17 15:17:01\n",
      "TS time 2020-08-13 19:11:21\n",
      "TS time 2021-03-24 03:43:09\n",
      "Change address at index: 58\n",
      "TS time 2020-11-28 18:59:09\n",
      "TS time 2020-12-21 02:02:50\n",
      "Change address at index: 61\n",
      "TS time 2021-01-15 00:57:19\n",
      "TS time 2021-01-17 15:17:01\n",
      "Change address at index: 64\n",
      "Change address at index: 65\n",
      "Change address at index: 66\n",
      "TS time 2021-04-08 21:20:00\n",
      "TS time 2021-01-17 15:17:01\n",
      "TS time 2020-09-09 15:31:13\n",
      "TS time 2021-04-16 19:25:58\n",
      "TS time 2019-12-24 01:20:09\n",
      "TS time 2020-10-02 16:53:14\n",
      "TS time 2020-06-19 05:31:31\n",
      "TS time 2021-01-17 15:17:01\n",
      "TS time 2020-11-27 17:18:46\n",
      "Change address at index: 76\n",
      "TS time 2021-03-01 12:57:43\n",
      "TS time 2021-01-17 15:17:01\n",
      "TS time 2021-01-17 15:17:01\n",
      "Change address at index: 80\n",
      "TS time 2021-01-17 15:17:01\n",
      "TS time 2021-04-15 22:40:28\n",
      "TS time 2020-08-11 07:28:42\n",
      "TS time 2019-12-07 04:03:25\n",
      "Change address at index: 86\n",
      "TS time 2021-04-28 12:03:10\n",
      "TS time 2021-01-10 18:58:00\n",
      "TS time 2021-04-28 12:03:10\n",
      "Change address at index: 91\n",
      "TS time 2021-04-28 12:03:10\n",
      "Change address at index: 96\n",
      "TS time 2021-04-28 12:03:10\n",
      "TS time 2021-04-28 12:03:10\n",
      "Change address at index: 100\n",
      "Change address at index: 101\n",
      "TS time 2021-01-06 12:36:31\n",
      "TS time 2021-04-28 12:03:10\n",
      "TS time 2021-01-06 11:38:15\n",
      "Change address at index: 106\n",
      "Change address at index: 107\n",
      "TS time 2020-12-31 21:58:56\n",
      "TS time 2020-08-02 04:45:09\n",
      "TS time 2021-01-06 11:28:16\n",
      "TS time 2021-01-06 11:28:16\n",
      "TS time 2020-10-05 10:04:33\n",
      "Change address at index: 114\n",
      "TS time 2021-01-04 21:57:15\n",
      "TS time 2021-01-06 11:28:16\n",
      "TS time 2021-01-06 11:28:16\n",
      "TS time 2020-12-06 09:43:39\n",
      "TS time 2021-01-06 11:28:16\n",
      "Change address at index: 120\n",
      "Change address at index: 121\n",
      "TS time 2020-09-30 13:56:33\n",
      "TS time 2020-08-31 10:20:03\n",
      "TS time 2021-04-01 16:08:52\n",
      "Change address at index: 125\n",
      "TS time 2019-09-19 21:50:02\n",
      "TS time 2020-11-01 03:17:31\n",
      "TS time 2020-10-26 00:59:02\n",
      "Change address at index: 131\n",
      "Change address at index: 132\n",
      "Change address at index: 133\n",
      "TS time 2021-01-06 11:28:16\n",
      "TS time 2021-01-06 11:28:16\n",
      "TS time 2020-08-25 09:16:22\n",
      "Change address at index: 137\n",
      "Change address at index: 138\n",
      "Change address at index: 139\n",
      "TS time 2019-05-07 05:56:37\n",
      "Change address at index: 141\n",
      "TS time 2021-01-06 11:28:16\n",
      "TS time 2020-11-20 06:18:39\n",
      "TS time 2021-01-06 11:28:16\n",
      "TS time 2020-10-15 09:53:53\n",
      "TS time 2020-07-22 20:22:15\n",
      "TS time 2020-12-30 06:23:40\n",
      "TS time 2020-11-25 23:28:21\n",
      "TS time 2021-01-06 11:19:45\n",
      "Change address at index: 151\n",
      "TS time 2021-02-27 10:25:25\n",
      "Change address at index: 153\n",
      "TS time 2021-01-06 11:28:16\n",
      "Change address at index: 155\n",
      "TS time 2020-11-15 07:21:53\n",
      "Change address at index: 157\n",
      "TS time 2020-12-28 14:51:06\n",
      "Change address at index: 159\n",
      "TS time 2021-01-06 11:28:16\n",
      "TS time 2021-01-05 09:02:46\n",
      "TS time 2021-01-03 16:32:57\n",
      "TS time 2021-01-06 11:28:16\n",
      "TS time 2020-11-19 12:44:52\n",
      "TS time 2021-04-25 12:01:25\n",
      "TS time 2021-01-19 07:14:50\n",
      "TS time 2020-09-23 15:53:27\n",
      "TS time 2021-04-22 13:53:09\n",
      "TS time 2021-01-06 11:28:16\n",
      "Change address at index: 171\n",
      "TS time 2021-01-06 11:28:16\n",
      "TS time 2021-01-07 15:15:53\n",
      "Change address at index: 174\n",
      "TS time 2020-09-24 19:00:49\n",
      "TS time 2021-04-07 13:56:04\n",
      "Change address at index: 177\n",
      "TS time 2021-04-28 12:03:10\n",
      "TS time 2021-01-05 14:58:40\n",
      "Change address at index: 181\n",
      "TS time 2021-04-28 12:03:10\n",
      "TS time 2021-01-03 16:58:45\n",
      "TS time 2021-04-28 12:03:10\n",
      "TS time 2021-01-03 15:11:30\n",
      "TS time 2021-04-28 12:03:10\n",
      "TS time 2021-01-03 02:58:53\n"
     ]
    }
   ],
   "source": [
    "transactions = edges_2021\n",
    "\n",
    "for index, row in transactions.iterrows():  # Loop over all transactions to check if this is target's first appearance\n",
    "    \n",
    "    output_address = row['target']\n",
    "    \n",
    "    try:\n",
    "    \n",
    "        output_address_transactions = output_dict[output_address]['txs']\n",
    "\n",
    "        # Get first transaction of output address (last transaction of txs list)\n",
    "        first_transaction_output_address = output_address_transactions[-1]\n",
    "\n",
    "        # Check if first transaction of output address is the present transaction\n",
    "        date_first_transaction = first_transaction_output_address['time']\n",
    "        date_current_transaction = row['timestamp']\n",
    "\n",
    "        if date_first_transaction == date_current_transaction:\n",
    "            if output_address not in potential_change_addresses:\n",
    "                potential_change_addresses.append(output_address)\n",
    "                print(\"Change address at index: {}\".format(index))\n",
    "        else:\n",
    "            print(\"TS time {}\".format(datetime.fromtimestamp(date_first_transaction)))\n",
    "            #print(\"O time {}\".format(row['datetime']))\n",
    "    except:\n",
    "        pass"
   ]
  },
  {
   "cell_type": "markdown",
   "metadata": {},
   "source": [
    "### 2.3 No address that is both input and output in same transaction"
   ]
  },
  {
   "cell_type": "code",
   "execution_count": 30,
   "metadata": {},
   "outputs": [],
   "source": [
    "grouped_transactions = transactions.groupby(['amount', 'timestamp'])"
   ]
  },
  {
   "cell_type": "code",
   "execution_count": 31,
   "metadata": {},
   "outputs": [],
   "source": [
    "transactions = transactions.drop_duplicates()"
   ]
  },
  {
   "cell_type": "code",
   "execution_count": 32,
   "metadata": {},
   "outputs": [],
   "source": [
    "for name, group in grouped_transactions:\n",
    "    \n",
    "    sources = group['source']\n",
    "    targets = group['target']\n",
    "    \n",
    "    for source in sources:\n",
    "        if source in group['target']:\n",
    "            potential_change_addresses = list(set(potential_change_addresses) - set(targets))"
   ]
  },
  {
   "cell_type": "markdown",
   "metadata": {},
   "source": [
    "### 2.4 All other output addresses in same transaction are not first appearing"
   ]
  },
  {
   "cell_type": "code",
   "execution_count": 33,
   "metadata": {},
   "outputs": [],
   "source": [
    "for name, group in grouped_transactions:\n",
    "    output_addresses = group['target']\n",
    "    \n",
    "    counter = 0\n",
    "    for output in output_addresses:\n",
    "        if output in potential_change_addresses:\n",
    "            counter +=1\n",
    "    if counter >= 2:\n",
    "        potential_change_addresses = list(set(potential_change_addresses) - set(output_addresses))\n",
    "            "
   ]
  },
  {
   "cell_type": "code",
   "execution_count": 34,
   "metadata": {},
   "outputs": [],
   "source": [
    "def change_address_to_id_from_input_heuristic(potential_changed_address, raw_transactions):\n",
    "    id_found = raw_transactions[[potential_changed_address in nested for nested in raw_transactions['to']]]['from_id'].tolist()\n",
    "    return(id_found)"
   ]
  },
  {
   "cell_type": "code",
   "execution_count": 35,
   "metadata": {},
   "outputs": [],
   "source": [
    "# for address in potential_change_addresses:\n",
    "#     print(change_address_to_id_from_input_heuristic(address, raw_transactions)[0][0])"
   ]
  },
  {
   "cell_type": "code",
   "execution_count": 36,
   "metadata": {},
   "outputs": [
    {
     "name": "stdout",
     "output_type": "stream",
     "text": [
      "Number of addresses linked to the same persons with second heuristic: 45\n"
     ]
    }
   ],
   "source": [
    "print('Number of addresses linked to the same persons with second heuristic: {}'.format(len(potential_change_addresses)))"
   ]
  },
  {
   "cell_type": "code",
   "execution_count": 37,
   "metadata": {},
   "outputs": [
    {
     "name": "stdout",
     "output_type": "stream",
     "text": [
      "45 addresses were linked to 8 different persons\n"
     ]
    }
   ],
   "source": [
    "unique_id_owner_change_address = len(set([change_address_to_id_from_input_heuristic(address, raw_transactions)[0][0] for address in potential_change_addresses]))\n",
    "print('{} addresses were linked to {} different persons'.format(len(potential_change_addresses), unique_id_owner_change_address))"
   ]
  },
  {
   "cell_type": "code",
   "execution_count": 38,
   "metadata": {
    "scrolled": true
   },
   "outputs": [],
   "source": [
    "for address in potential_change_addresses:\n",
    "    id_match = change_address_to_id_from_input_heuristic(address, raw_transactions)[0][0]\n",
    "    identity.at[identity.index[identity.id == id_match].tolist()[0], 'from'] += [address]"
   ]
  },
  {
   "cell_type": "markdown",
   "metadata": {},
   "source": [
    "#### Map with new id the transaction history of ego"
   ]
  },
  {
   "cell_type": "code",
   "execution_count": 39,
   "metadata": {},
   "outputs": [],
   "source": [
    "raw_transactions['from_id'] = raw_transactions['from'].apply(mapping_from, identity = identity).apply(set).apply(list)\n",
    "raw_transactions['to_id'] = raw_transactions['to'].apply(mapping, identity = identity)\n",
    "edges = edge_creator(raw_transactions)\n",
    "edges['Date'] = [datetime.fromtimestamp(timestamp) for timestamp in edges['timestamp']]\n",
    "edges_2021 = edges[edges.Date>parse('2021-01-01')]\n",
    "edges_2021.columns = ['source', 'target', 'amount', 'timestamp', 'Date']\n",
    "edges_2021.drop(columns=['Date'], inplace = True)"
   ]
  },
  {
   "cell_type": "code",
   "execution_count": 40,
   "metadata": {},
   "outputs": [],
   "source": [
    "nodes = list(set(edges_2021['source'].tolist() + edges_2021['target'].tolist()))"
   ]
  },
  {
   "cell_type": "code",
   "execution_count": 41,
   "metadata": {},
   "outputs": [
    {
     "name": "stdout",
     "output_type": "stream",
     "text": [
      "The total number of accounts after applying the heuristics is 125\n"
     ]
    }
   ],
   "source": [
    "print('The total number of accounts after applying the heuristics is {}'.format(len(nodes)))"
   ]
  },
  {
   "cell_type": "markdown",
   "metadata": {},
   "source": [
    "## Create ego network"
   ]
  },
  {
   "cell_type": "markdown",
   "metadata": {},
   "source": [
    "#### Get transactions of the accounts that interacted with the ego"
   ]
  },
  {
   "cell_type": "code",
   "execution_count": 42,
   "metadata": {},
   "outputs": [],
   "source": [
    "raw_transactions_all = [output_dict[address]['txs'] for address in output_dict]"
   ]
  },
  {
   "cell_type": "markdown",
   "metadata": {},
   "source": [
    "#### Convert the transaction dataframe into an edge table"
   ]
  },
  {
   "cell_type": "code",
   "execution_count": 43,
   "metadata": {},
   "outputs": [],
   "source": [
    "raw_transactions_edges = pd.DataFrame(columns=['from','to','amount','timestamp'])\n",
    "# Get table of transactions in raw form\n",
    "for address in raw_transactions_all:\n",
    "    try:\n",
    "        raw_transactions_edges = raw_transactions_edges.append(get_edge_list(address))\n",
    "    except:\n",
    "        pass\n",
    "    \n",
    "raw_transactions_edges.reset_index(inplace=True)"
   ]
  },
  {
   "cell_type": "markdown",
   "metadata": {},
   "source": [
    "#### Select only transactions happened in 2021"
   ]
  },
  {
   "cell_type": "code",
   "execution_count": 44,
   "metadata": {},
   "outputs": [],
   "source": [
    "raw_transactions_edges['Date'] = [datetime.fromtimestamp(timestamp) for timestamp in raw_transactions_edges['timestamp']]\n",
    "raw_transactions_edges = raw_transactions_edges.loc[raw_transactions_edges.Date>parse('2021-01-01'), :]\n",
    "raw_transactions_edges.drop(columns=['Date'], inplace = True)"
   ]
  },
  {
   "cell_type": "markdown",
   "metadata": {},
   "source": [
    "#### Map with unique identifiers"
   ]
  },
  {
   "cell_type": "code",
   "execution_count": 45,
   "metadata": {
    "scrolled": true
   },
   "outputs": [],
   "source": [
    "raw_transactions_edges['id'] = range(len(raw_transactions_edges))\n",
    "raw_transactions_edges['from_id'] = raw_transactions_edges['from'].apply(mapping_from, identity = identity).apply(set).apply(list)\n",
    "raw_transactions_edges['to_id'] = raw_transactions_edges['to'].apply(mapping, identity = identity)"
   ]
  },
  {
   "cell_type": "markdown",
   "metadata": {},
   "source": [
    "#### Select only edges that include accounts that appear in the edge list of the ego"
   ]
  },
  {
   "cell_type": "code",
   "execution_count": 46,
   "metadata": {},
   "outputs": [],
   "source": [
    "def is_in_list2(list_in, list_preset):\n",
    "    return(any([element in list_preset for element in list_in]))\n",
    "\n",
    "ego_network_transactions = raw_transactions_edges[raw_transactions_edges.from_id.apply(is_in_list2, list_preset = nodes) & raw_transactions_edges.to_id.apply(is_in_list2, list_preset = nodes)]"
   ]
  },
  {
   "cell_type": "code",
   "execution_count": 47,
   "metadata": {},
   "outputs": [],
   "source": [
    "edges_ego_network = edge_creator(ego_network_transactions)"
   ]
  },
  {
   "cell_type": "code",
   "execution_count": 48,
   "metadata": {},
   "outputs": [],
   "source": [
    "edges_ego_network = edges_ego_network.drop_duplicates()"
   ]
  },
  {
   "cell_type": "code",
   "execution_count": 49,
   "metadata": {},
   "outputs": [],
   "source": [
    "edges.columns = ['source', 'target', 'amount', 'timestamp', 'Date']\n",
    "edges_ego_network.columns = ['source', 'target', 'amount', 'timestamp']\n",
    "edges_2021.columns = ['source', 'target', 'amount', 'timestamp']"
   ]
  },
  {
   "cell_type": "markdown",
   "metadata": {},
   "source": [
    "#### Merge edges of others with edges of the ego"
   ]
  },
  {
   "cell_type": "code",
   "execution_count": 50,
   "metadata": {},
   "outputs": [],
   "source": [
    "edges_ego_network = pd.concat([edges_ego_network, edges_2021])"
   ]
  },
  {
   "cell_type": "markdown",
   "metadata": {},
   "source": [
    "#### Remove sefl-loop"
   ]
  },
  {
   "cell_type": "code",
   "execution_count": 51,
   "metadata": {},
   "outputs": [],
   "source": [
    "edges_ego_network = edges_ego_network[edges_ego_network.source!=edges_ego_network.target]"
   ]
  },
  {
   "cell_type": "markdown",
   "metadata": {},
   "source": [
    "#### Store as csv"
   ]
  },
  {
   "cell_type": "code",
   "execution_count": 152,
   "metadata": {},
   "outputs": [],
   "source": [
    "edges_ego_network.to_csv('/home/massi/my_project_dir/blockChain/data/ego_network_data_2021.csv', index=False)"
   ]
  },
  {
   "cell_type": "code",
   "execution_count": 52,
   "metadata": {},
   "outputs": [
    {
     "data": {
      "text/plain": [
       "2620"
      ]
     },
     "execution_count": 52,
     "metadata": {},
     "output_type": "execute_result"
    }
   ],
   "source": [
    "len(set(edges_ego_network['source'].tolist() + edges_ego_network['target'].tolist()))"
   ]
  },
  {
   "cell_type": "markdown",
   "metadata": {},
   "source": [
    "#### Get ego network of degree 1"
   ]
  },
  {
   "cell_type": "code",
   "execution_count": 53,
   "metadata": {},
   "outputs": [],
   "source": [
    "edges_network_only_nodes = edges_ego_network[edges_ego_network.source.isin(nodes) & edges_ego_network.target.isin(nodes)]"
   ]
  },
  {
   "cell_type": "code",
   "execution_count": 54,
   "metadata": {},
   "outputs": [],
   "source": [
    "edges_network_only_nodes= edges_network_only_nodes.drop_duplicates()"
   ]
  },
  {
   "cell_type": "code",
   "execution_count": 53,
   "metadata": {},
   "outputs": [],
   "source": [
    "edges_network_only_nodes.to_csv('/home/massi/my_project_dir/blockChain/data/ego_network_data_only_nodes.csv', index=False)"
   ]
  },
  {
   "cell_type": "code",
   "execution_count": 319,
   "metadata": {},
   "outputs": [],
   "source": [
    "#edges_network_only_nodes = pd.concat([edges_network_only_nodes, edges])"
   ]
  },
  {
   "cell_type": "code",
   "execution_count": 55,
   "metadata": {},
   "outputs": [],
   "source": [
    "edges_network_only_nodes['Date'] = [datetime.fromtimestamp(timestamp) for timestamp in edges_network_only_nodes['timestamp']]"
   ]
  },
  {
   "cell_type": "code",
   "execution_count": 56,
   "metadata": {},
   "outputs": [
    {
     "data": {
      "text/html": [
       "<div>\n",
       "<style scoped>\n",
       "    .dataframe tbody tr th:only-of-type {\n",
       "        vertical-align: middle;\n",
       "    }\n",
       "\n",
       "    .dataframe tbody tr th {\n",
       "        vertical-align: top;\n",
       "    }\n",
       "\n",
       "    .dataframe thead th {\n",
       "        text-align: right;\n",
       "    }\n",
       "</style>\n",
       "<table border=\"1\" class=\"dataframe\">\n",
       "  <thead>\n",
       "    <tr style=\"text-align: right;\">\n",
       "      <th></th>\n",
       "      <th>source</th>\n",
       "      <th>target</th>\n",
       "      <th>amount</th>\n",
       "      <th>timestamp</th>\n",
       "      <th>Date</th>\n",
       "    </tr>\n",
       "  </thead>\n",
       "  <tbody>\n",
       "    <tr>\n",
       "      <th>0</th>\n",
       "      <td>40</td>\n",
       "      <td>1NmZ7m1QcCamK7iSdZH1zgCDVyjnx8CXRj</td>\n",
       "      <td>202070</td>\n",
       "      <td>1609683090</td>\n",
       "      <td>2021-01-03 15:11:30</td>\n",
       "    </tr>\n",
       "    <tr>\n",
       "      <th>1</th>\n",
       "      <td>40</td>\n",
       "      <td>0</td>\n",
       "      <td>3613740</td>\n",
       "      <td>1609683090</td>\n",
       "      <td>2021-01-03 15:11:30</td>\n",
       "    </tr>\n",
       "    <tr>\n",
       "      <th>2</th>\n",
       "      <td>21</td>\n",
       "      <td>0</td>\n",
       "      <td>1338987</td>\n",
       "      <td>1610903604</td>\n",
       "      <td>2021-01-17 18:13:24</td>\n",
       "    </tr>\n",
       "    <tr>\n",
       "      <th>5</th>\n",
       "      <td>21</td>\n",
       "      <td>3NxYb9saP2FdiKASkNPZtMGcTS8dZo4gb3</td>\n",
       "      <td>1911984</td>\n",
       "      <td>1610903604</td>\n",
       "      <td>2021-01-17 18:13:24</td>\n",
       "    </tr>\n",
       "    <tr>\n",
       "      <th>7</th>\n",
       "      <td>21</td>\n",
       "      <td>3D6GyDZ6dhZNwSi7VJbZJCRvs5Qh2oyLEr</td>\n",
       "      <td>6911959</td>\n",
       "      <td>1610903604</td>\n",
       "      <td>2021-01-17 18:13:24</td>\n",
       "    </tr>\n",
       "  </tbody>\n",
       "</table>\n",
       "</div>"
      ],
      "text/plain": [
       "  source                              target   amount   timestamp  \\\n",
       "0     40  1NmZ7m1QcCamK7iSdZH1zgCDVyjnx8CXRj   202070  1609683090   \n",
       "1     40                                   0  3613740  1609683090   \n",
       "2     21                                   0  1338987  1610903604   \n",
       "5     21  3NxYb9saP2FdiKASkNPZtMGcTS8dZo4gb3  1911984  1610903604   \n",
       "7     21  3D6GyDZ6dhZNwSi7VJbZJCRvs5Qh2oyLEr  6911959  1610903604   \n",
       "\n",
       "                 Date  \n",
       "0 2021-01-03 15:11:30  \n",
       "1 2021-01-03 15:11:30  \n",
       "2 2021-01-17 18:13:24  \n",
       "5 2021-01-17 18:13:24  \n",
       "7 2021-01-17 18:13:24  "
      ]
     },
     "execution_count": 56,
     "metadata": {},
     "output_type": "execute_result"
    }
   ],
   "source": [
    "edges_network_only_nodes.head()"
   ]
  },
  {
   "cell_type": "code",
   "execution_count": 57,
   "metadata": {},
   "outputs": [],
   "source": [
    "def get_temporal_motif1(edges_network_only_nodes):\n",
    "    \n",
    "    triads = list()\n",
    "    for index in range(len(edges_network_only_nodes)):\n",
    "        a = edges_network_only_nodes.iloc[index, 0]\n",
    "        b = edges_network_only_nodes.iloc[index, 1]\n",
    "        timestamp_ab = edges_network_only_nodes.iloc[index, -1]\n",
    "        # rows where the sender is either the sender or the receiver of the current row.\n",
    "        outgoing_b_clos_in_time = edges_network_only_nodes[(edges_network_only_nodes.source == b) & (edges_network_only_nodes.Date >= timestamp_ab) & (edges_network_only_nodes.Date <= timestamp_ab + timedelta(minutes=30))]\n",
    "        if len(outgoing_b_clos_in_time)>0:\n",
    "            triads.append(outgoing_b_clos_in_time.append(edges_network_only_nodes.iloc[index]).sort_values(by='Date'))\n",
    "    return(triads)"
   ]
  },
  {
   "cell_type": "code",
   "execution_count": 58,
   "metadata": {},
   "outputs": [],
   "source": [
    "def get_temporal_motif2(edges_network_only_nodes):\n",
    "    \n",
    "    triads = list()\n",
    "    for index in range(len(edges_network_only_nodes)):\n",
    "        edges_network_only_nodes_copy = copy.deepcopy(edges_network_only_nodes.iloc[index:])\n",
    "        a = edges_network_only_nodes.iloc[index, 0]\n",
    "        b = edges_network_only_nodes.iloc[index, 1]\n",
    "        # rows where the sender is either the sender or the receiver of the current row.\n",
    "        outgoing_a_b = edges_network_only_nodes[(edges_network_only_nodes.source == b) | (edges_network_only_nodes.source == a)]\n",
    "        receivers_a = edges_network_only_nodes.loc[edges_network_only_nodes.source == a, 'target']\n",
    "        # Store edges where the sender is b and the receivers are receivers of a\n",
    "        edges_b_to_receivers_a = edges_network_only_nodes[(edges_network_only_nodes.source == b) & (edges_network_only_nodes.target.isin(receivers_a))]\n",
    "        if len(edges_b_to_receivers_a)>0:\n",
    "            for receivers_a_and_b in list(set(edges_b_to_receivers_a.target)):\n",
    "                #next_edges_b = edges_network_only_nodes[([b == element for element in edges_network_only_nodes.source]) & (edges_network_only_nodes.target.isin( list(set(receivers_a) - {b})))]\n",
    "                next_edges_a = edges_network_only_nodes[(edges_network_only_nodes.source == a) & (edges_network_only_nodes.target == receivers_a_and_b)] #(edges_network_only_nodes.target.isin(next_edges_b.target))]\n",
    "                #next_edges_b = next_edges_b.iloc[0, :]\n",
    "                next_edges_b = edges_b_to_receivers_a[edges_b_to_receivers_a.target == receivers_a_and_b]\n",
    "                next_edges = pd.concat([next_edges_a, next_edges_b])\n",
    "                #next_edges = next_edges_a.append(next_edges_b)\n",
    "                triad = next_edges.append(edges_network_only_nodes.iloc[index, :]).sort_values(by='Date')\n",
    "                triad = triad[triad.Date.isin([triad.loc[(triad['source'] == source) & (triad['target'] == target), 'Date'].min() for source,target in zip(triad['source'], triad['target'])])]\n",
    "                if triad.iloc[0, 0] == triad.iloc[1, 0]:\n",
    "            #triad = next_edges.append(edges_network_only_nodes.iloc[index,:]).sort_values(by='Date')\n",
    "                    triads.append(triad)\n",
    "    \n",
    "    return(triads)"
   ]
  },
  {
   "cell_type": "code",
   "execution_count": 59,
   "metadata": {},
   "outputs": [],
   "source": [
    "def remove_self_loop(edges):\n",
    "    return(edges[edges.source!=edges.target])"
   ]
  },
  {
   "cell_type": "code",
   "execution_count": 60,
   "metadata": {},
   "outputs": [],
   "source": [
    "forw_paths1 = get_temporal_motif1(edges_network_only_nodes)"
   ]
  },
  {
   "cell_type": "code",
   "execution_count": 61,
   "metadata": {},
   "outputs": [],
   "source": [
    "forw_paths2 = get_temporal_motif2(edges_network_only_nodes)"
   ]
  },
  {
   "cell_type": "code",
   "execution_count": 62,
   "metadata": {},
   "outputs": [
    {
     "data": {
      "text/plain": [
       "(7, 3)"
      ]
     },
     "execution_count": 62,
     "metadata": {},
     "output_type": "execute_result"
    }
   ],
   "source": [
    "len(forw_paths1), len(forw_paths2)"
   ]
  },
  {
   "cell_type": "code",
   "execution_count": 63,
   "metadata": {},
   "outputs": [
    {
     "data": {
      "text/plain": [
       "[     source target    amount   timestamp                Date\n",
       " 187      41      0  12468200  1609677923 2021-01-03 13:45:23\n",
       " 7861     41     12   5941200  1611127498 2021-01-20 08:24:58\n",
       " 7860     12      0   5927448  1611127637 2021-01-20 08:27:17,\n",
       "      source target    amount   timestamp                Date\n",
       " 187      41      0  12468200  1609677923 2021-01-03 13:45:23\n",
       " 7865     41     16   4836000  1611064651 2021-01-19 14:57:31\n",
       " 7864     16      0   4819765  1611065220 2021-01-19 15:07:00,\n",
       "      source target    amount   timestamp                Date\n",
       " 187      41      0  12468200  1609677923 2021-01-03 13:45:23\n",
       " 7869     41     19   5553000  1610977934 2021-01-18 14:52:14\n",
       " 7868     19      0   5547079  1610978026 2021-01-18 14:53:46]"
      ]
     },
     "execution_count": 63,
     "metadata": {},
     "output_type": "execute_result"
    }
   ],
   "source": [
    "forw_paths2"
   ]
  },
  {
   "cell_type": "code",
   "execution_count": 64,
   "metadata": {},
   "outputs": [
    {
     "data": {
      "text/html": [
       "<div>\n",
       "<style scoped>\n",
       "    .dataframe tbody tr th:only-of-type {\n",
       "        vertical-align: middle;\n",
       "    }\n",
       "\n",
       "    .dataframe tbody tr th {\n",
       "        vertical-align: top;\n",
       "    }\n",
       "\n",
       "    .dataframe thead th {\n",
       "        text-align: right;\n",
       "    }\n",
       "</style>\n",
       "<table border=\"1\" class=\"dataframe\">\n",
       "  <thead>\n",
       "    <tr style=\"text-align: right;\">\n",
       "      <th></th>\n",
       "      <th>source</th>\n",
       "      <th>target</th>\n",
       "      <th>amount</th>\n",
       "      <th>timestamp</th>\n",
       "      <th>Date</th>\n",
       "    </tr>\n",
       "  </thead>\n",
       "  <tbody>\n",
       "    <tr>\n",
       "      <th>7852</th>\n",
       "      <td>41</td>\n",
       "      <td>5</td>\n",
       "      <td>7148600</td>\n",
       "      <td>1611481772</td>\n",
       "      <td>2021-01-24 10:49:32</td>\n",
       "    </tr>\n",
       "    <tr>\n",
       "      <th>10</th>\n",
       "      <td>5</td>\n",
       "      <td>17MK6zezZyxoEjwamGKqtbpoZau8K8dprH</td>\n",
       "      <td>2543626</td>\n",
       "      <td>1611481841</td>\n",
       "      <td>2021-01-24 10:50:41</td>\n",
       "    </tr>\n",
       "  </tbody>\n",
       "</table>\n",
       "</div>"
      ],
      "text/plain": [
       "     source                              target   amount   timestamp  \\\n",
       "7852     41                                   5  7148600  1611481772   \n",
       "10        5  17MK6zezZyxoEjwamGKqtbpoZau8K8dprH  2543626  1611481841   \n",
       "\n",
       "                    Date  \n",
       "7852 2021-01-24 10:49:32  \n",
       "10   2021-01-24 10:50:41  "
      ]
     },
     "metadata": {},
     "output_type": "display_data"
    },
    {
     "data": {
      "text/html": [
       "<div>\n",
       "<style scoped>\n",
       "    .dataframe tbody tr th:only-of-type {\n",
       "        vertical-align: middle;\n",
       "    }\n",
       "\n",
       "    .dataframe tbody tr th {\n",
       "        vertical-align: top;\n",
       "    }\n",
       "\n",
       "    .dataframe thead th {\n",
       "        text-align: right;\n",
       "    }\n",
       "</style>\n",
       "<table border=\"1\" class=\"dataframe\">\n",
       "  <thead>\n",
       "    <tr style=\"text-align: right;\">\n",
       "      <th></th>\n",
       "      <th>source</th>\n",
       "      <th>target</th>\n",
       "      <th>amount</th>\n",
       "      <th>timestamp</th>\n",
       "      <th>Date</th>\n",
       "    </tr>\n",
       "  </thead>\n",
       "  <tbody>\n",
       "    <tr>\n",
       "      <th>7860</th>\n",
       "      <td>12</td>\n",
       "      <td>0</td>\n",
       "      <td>5927448</td>\n",
       "      <td>1611127637</td>\n",
       "      <td>2021-01-20 08:27:17</td>\n",
       "    </tr>\n",
       "    <tr>\n",
       "      <th>89</th>\n",
       "      <td>0</td>\n",
       "      <td>1NDyJtNTjmwk5xPNhjgAMu4HDHigtobu1s</td>\n",
       "      <td>1897619061</td>\n",
       "      <td>1611129418</td>\n",
       "      <td>2021-01-20 08:56:58</td>\n",
       "    </tr>\n",
       "  </tbody>\n",
       "</table>\n",
       "</div>"
      ],
      "text/plain": [
       "     source                              target      amount   timestamp  \\\n",
       "7860     12                                   0     5927448  1611127637   \n",
       "89        0  1NDyJtNTjmwk5xPNhjgAMu4HDHigtobu1s  1897619061  1611129418   \n",
       "\n",
       "                    Date  \n",
       "7860 2021-01-20 08:27:17  \n",
       "89   2021-01-20 08:56:58  "
      ]
     },
     "metadata": {},
     "output_type": "display_data"
    },
    {
     "data": {
      "text/html": [
       "<div>\n",
       "<style scoped>\n",
       "    .dataframe tbody tr th:only-of-type {\n",
       "        vertical-align: middle;\n",
       "    }\n",
       "\n",
       "    .dataframe tbody tr th {\n",
       "        vertical-align: top;\n",
       "    }\n",
       "\n",
       "    .dataframe thead th {\n",
       "        text-align: right;\n",
       "    }\n",
       "</style>\n",
       "<table border=\"1\" class=\"dataframe\">\n",
       "  <thead>\n",
       "    <tr style=\"text-align: right;\">\n",
       "      <th></th>\n",
       "      <th>source</th>\n",
       "      <th>target</th>\n",
       "      <th>amount</th>\n",
       "      <th>timestamp</th>\n",
       "      <th>Date</th>\n",
       "    </tr>\n",
       "  </thead>\n",
       "  <tbody>\n",
       "    <tr>\n",
       "      <th>7861</th>\n",
       "      <td>41</td>\n",
       "      <td>12</td>\n",
       "      <td>5941200</td>\n",
       "      <td>1611127498</td>\n",
       "      <td>2021-01-20 08:24:58</td>\n",
       "    </tr>\n",
       "    <tr>\n",
       "      <th>7860</th>\n",
       "      <td>12</td>\n",
       "      <td>0</td>\n",
       "      <td>5927448</td>\n",
       "      <td>1611127637</td>\n",
       "      <td>2021-01-20 08:27:17</td>\n",
       "    </tr>\n",
       "  </tbody>\n",
       "</table>\n",
       "</div>"
      ],
      "text/plain": [
       "     source target   amount   timestamp                Date\n",
       "7861     41     12  5941200  1611127498 2021-01-20 08:24:58\n",
       "7860     12      0  5927448  1611127637 2021-01-20 08:27:17"
      ]
     },
     "metadata": {},
     "output_type": "display_data"
    },
    {
     "data": {
      "text/html": [
       "<div>\n",
       "<style scoped>\n",
       "    .dataframe tbody tr th:only-of-type {\n",
       "        vertical-align: middle;\n",
       "    }\n",
       "\n",
       "    .dataframe tbody tr th {\n",
       "        vertical-align: top;\n",
       "    }\n",
       "\n",
       "    .dataframe thead th {\n",
       "        text-align: right;\n",
       "    }\n",
       "</style>\n",
       "<table border=\"1\" class=\"dataframe\">\n",
       "  <thead>\n",
       "    <tr style=\"text-align: right;\">\n",
       "      <th></th>\n",
       "      <th>source</th>\n",
       "      <th>target</th>\n",
       "      <th>amount</th>\n",
       "      <th>timestamp</th>\n",
       "      <th>Date</th>\n",
       "    </tr>\n",
       "  </thead>\n",
       "  <tbody>\n",
       "    <tr>\n",
       "      <th>7865</th>\n",
       "      <td>41</td>\n",
       "      <td>16</td>\n",
       "      <td>4836000</td>\n",
       "      <td>1611064651</td>\n",
       "      <td>2021-01-19 14:57:31</td>\n",
       "    </tr>\n",
       "    <tr>\n",
       "      <th>7864</th>\n",
       "      <td>16</td>\n",
       "      <td>0</td>\n",
       "      <td>4819765</td>\n",
       "      <td>1611065220</td>\n",
       "      <td>2021-01-19 15:07:00</td>\n",
       "    </tr>\n",
       "  </tbody>\n",
       "</table>\n",
       "</div>"
      ],
      "text/plain": [
       "     source target   amount   timestamp                Date\n",
       "7865     41     16  4836000  1611064651 2021-01-19 14:57:31\n",
       "7864     16      0  4819765  1611065220 2021-01-19 15:07:00"
      ]
     },
     "metadata": {},
     "output_type": "display_data"
    },
    {
     "data": {
      "text/html": [
       "<div>\n",
       "<style scoped>\n",
       "    .dataframe tbody tr th:only-of-type {\n",
       "        vertical-align: middle;\n",
       "    }\n",
       "\n",
       "    .dataframe tbody tr th {\n",
       "        vertical-align: top;\n",
       "    }\n",
       "\n",
       "    .dataframe thead th {\n",
       "        text-align: right;\n",
       "    }\n",
       "</style>\n",
       "<table border=\"1\" class=\"dataframe\">\n",
       "  <thead>\n",
       "    <tr style=\"text-align: right;\">\n",
       "      <th></th>\n",
       "      <th>source</th>\n",
       "      <th>target</th>\n",
       "      <th>amount</th>\n",
       "      <th>timestamp</th>\n",
       "      <th>Date</th>\n",
       "    </tr>\n",
       "  </thead>\n",
       "  <tbody>\n",
       "    <tr>\n",
       "      <th>7869</th>\n",
       "      <td>41</td>\n",
       "      <td>19</td>\n",
       "      <td>5553000</td>\n",
       "      <td>1610977934</td>\n",
       "      <td>2021-01-18 14:52:14</td>\n",
       "    </tr>\n",
       "    <tr>\n",
       "      <th>7868</th>\n",
       "      <td>19</td>\n",
       "      <td>0</td>\n",
       "      <td>5547079</td>\n",
       "      <td>1610978026</td>\n",
       "      <td>2021-01-18 14:53:46</td>\n",
       "    </tr>\n",
       "  </tbody>\n",
       "</table>\n",
       "</div>"
      ],
      "text/plain": [
       "     source target   amount   timestamp                Date\n",
       "7869     41     19  5553000  1610977934 2021-01-18 14:52:14\n",
       "7868     19      0  5547079  1610978026 2021-01-18 14:53:46"
      ]
     },
     "metadata": {},
     "output_type": "display_data"
    },
    {
     "data": {
      "text/html": [
       "<div>\n",
       "<style scoped>\n",
       "    .dataframe tbody tr th:only-of-type {\n",
       "        vertical-align: middle;\n",
       "    }\n",
       "\n",
       "    .dataframe tbody tr th {\n",
       "        vertical-align: top;\n",
       "    }\n",
       "\n",
       "    .dataframe thead th {\n",
       "        text-align: right;\n",
       "    }\n",
       "</style>\n",
       "<table border=\"1\" class=\"dataframe\">\n",
       "  <thead>\n",
       "    <tr style=\"text-align: right;\">\n",
       "      <th></th>\n",
       "      <th>source</th>\n",
       "      <th>target</th>\n",
       "      <th>amount</th>\n",
       "      <th>timestamp</th>\n",
       "      <th>Date</th>\n",
       "    </tr>\n",
       "  </thead>\n",
       "  <tbody>\n",
       "    <tr>\n",
       "      <th>8095</th>\n",
       "      <td>1NDyJtNTjmwk5xPNhjgAMu4HDHigtobu1s</td>\n",
       "      <td>31</td>\n",
       "      <td>1321800</td>\n",
       "      <td>1610218952</td>\n",
       "      <td>2021-01-09 20:02:32</td>\n",
       "    </tr>\n",
       "    <tr>\n",
       "      <th>8090</th>\n",
       "      <td>31</td>\n",
       "      <td>0</td>\n",
       "      <td>1312760</td>\n",
       "      <td>1610220515</td>\n",
       "      <td>2021-01-09 20:28:35</td>\n",
       "    </tr>\n",
       "  </tbody>\n",
       "</table>\n",
       "</div>"
      ],
      "text/plain": [
       "                                  source target   amount   timestamp  \\\n",
       "8095  1NDyJtNTjmwk5xPNhjgAMu4HDHigtobu1s     31  1321800  1610218952   \n",
       "8090                                  31      0  1312760  1610220515   \n",
       "\n",
       "                    Date  \n",
       "8095 2021-01-09 20:02:32  \n",
       "8090 2021-01-09 20:28:35  "
      ]
     },
     "metadata": {},
     "output_type": "display_data"
    },
    {
     "data": {
      "text/html": [
       "<div>\n",
       "<style scoped>\n",
       "    .dataframe tbody tr th:only-of-type {\n",
       "        vertical-align: middle;\n",
       "    }\n",
       "\n",
       "    .dataframe tbody tr th {\n",
       "        vertical-align: top;\n",
       "    }\n",
       "\n",
       "    .dataframe thead th {\n",
       "        text-align: right;\n",
       "    }\n",
       "</style>\n",
       "<table border=\"1\" class=\"dataframe\">\n",
       "  <thead>\n",
       "    <tr style=\"text-align: right;\">\n",
       "      <th></th>\n",
       "      <th>source</th>\n",
       "      <th>target</th>\n",
       "      <th>amount</th>\n",
       "      <th>timestamp</th>\n",
       "      <th>Date</th>\n",
       "    </tr>\n",
       "  </thead>\n",
       "  <tbody>\n",
       "    <tr>\n",
       "      <th>24</th>\n",
       "      <td>12</td>\n",
       "      <td>0</td>\n",
       "      <td>5927448</td>\n",
       "      <td>1611127649</td>\n",
       "      <td>2021-01-20 08:27:29</td>\n",
       "    </tr>\n",
       "    <tr>\n",
       "      <th>89</th>\n",
       "      <td>0</td>\n",
       "      <td>1NDyJtNTjmwk5xPNhjgAMu4HDHigtobu1s</td>\n",
       "      <td>1897619061</td>\n",
       "      <td>1611129418</td>\n",
       "      <td>2021-01-20 08:56:58</td>\n",
       "    </tr>\n",
       "  </tbody>\n",
       "</table>\n",
       "</div>"
      ],
      "text/plain": [
       "   source                              target      amount   timestamp  \\\n",
       "24     12                                   0     5927448  1611127649   \n",
       "89      0  1NDyJtNTjmwk5xPNhjgAMu4HDHigtobu1s  1897619061  1611129418   \n",
       "\n",
       "                  Date  \n",
       "24 2021-01-20 08:27:29  \n",
       "89 2021-01-20 08:56:58  "
      ]
     },
     "metadata": {},
     "output_type": "display_data"
    }
   ],
   "source": [
    "for path in forw_paths1:\n",
    "    display(path[:2])"
   ]
  },
  {
   "cell_type": "code",
   "execution_count": 65,
   "metadata": {},
   "outputs": [
    {
     "data": {
      "text/html": [
       "<div>\n",
       "<style scoped>\n",
       "    .dataframe tbody tr th:only-of-type {\n",
       "        vertical-align: middle;\n",
       "    }\n",
       "\n",
       "    .dataframe tbody tr th {\n",
       "        vertical-align: top;\n",
       "    }\n",
       "\n",
       "    .dataframe thead th {\n",
       "        text-align: right;\n",
       "    }\n",
       "</style>\n",
       "<table border=\"1\" class=\"dataframe\">\n",
       "  <thead>\n",
       "    <tr style=\"text-align: right;\">\n",
       "      <th></th>\n",
       "      <th>source</th>\n",
       "      <th>target</th>\n",
       "      <th>amount</th>\n",
       "      <th>timestamp</th>\n",
       "      <th>Date</th>\n",
       "    </tr>\n",
       "  </thead>\n",
       "  <tbody>\n",
       "    <tr>\n",
       "      <th>187</th>\n",
       "      <td>41</td>\n",
       "      <td>0</td>\n",
       "      <td>12468200</td>\n",
       "      <td>1609677923</td>\n",
       "      <td>2021-01-03 13:45:23</td>\n",
       "    </tr>\n",
       "    <tr>\n",
       "      <th>7861</th>\n",
       "      <td>41</td>\n",
       "      <td>12</td>\n",
       "      <td>5941200</td>\n",
       "      <td>1611127498</td>\n",
       "      <td>2021-01-20 08:24:58</td>\n",
       "    </tr>\n",
       "    <tr>\n",
       "      <th>7860</th>\n",
       "      <td>12</td>\n",
       "      <td>0</td>\n",
       "      <td>5927448</td>\n",
       "      <td>1611127637</td>\n",
       "      <td>2021-01-20 08:27:17</td>\n",
       "    </tr>\n",
       "  </tbody>\n",
       "</table>\n",
       "</div>"
      ],
      "text/plain": [
       "     source target    amount   timestamp                Date\n",
       "187      41      0  12468200  1609677923 2021-01-03 13:45:23\n",
       "7861     41     12   5941200  1611127498 2021-01-20 08:24:58\n",
       "7860     12      0   5927448  1611127637 2021-01-20 08:27:17"
      ]
     },
     "metadata": {},
     "output_type": "display_data"
    },
    {
     "data": {
      "text/html": [
       "<div>\n",
       "<style scoped>\n",
       "    .dataframe tbody tr th:only-of-type {\n",
       "        vertical-align: middle;\n",
       "    }\n",
       "\n",
       "    .dataframe tbody tr th {\n",
       "        vertical-align: top;\n",
       "    }\n",
       "\n",
       "    .dataframe thead th {\n",
       "        text-align: right;\n",
       "    }\n",
       "</style>\n",
       "<table border=\"1\" class=\"dataframe\">\n",
       "  <thead>\n",
       "    <tr style=\"text-align: right;\">\n",
       "      <th></th>\n",
       "      <th>source</th>\n",
       "      <th>target</th>\n",
       "      <th>amount</th>\n",
       "      <th>timestamp</th>\n",
       "      <th>Date</th>\n",
       "    </tr>\n",
       "  </thead>\n",
       "  <tbody>\n",
       "    <tr>\n",
       "      <th>187</th>\n",
       "      <td>41</td>\n",
       "      <td>0</td>\n",
       "      <td>12468200</td>\n",
       "      <td>1609677923</td>\n",
       "      <td>2021-01-03 13:45:23</td>\n",
       "    </tr>\n",
       "    <tr>\n",
       "      <th>7865</th>\n",
       "      <td>41</td>\n",
       "      <td>16</td>\n",
       "      <td>4836000</td>\n",
       "      <td>1611064651</td>\n",
       "      <td>2021-01-19 14:57:31</td>\n",
       "    </tr>\n",
       "    <tr>\n",
       "      <th>7864</th>\n",
       "      <td>16</td>\n",
       "      <td>0</td>\n",
       "      <td>4819765</td>\n",
       "      <td>1611065220</td>\n",
       "      <td>2021-01-19 15:07:00</td>\n",
       "    </tr>\n",
       "  </tbody>\n",
       "</table>\n",
       "</div>"
      ],
      "text/plain": [
       "     source target    amount   timestamp                Date\n",
       "187      41      0  12468200  1609677923 2021-01-03 13:45:23\n",
       "7865     41     16   4836000  1611064651 2021-01-19 14:57:31\n",
       "7864     16      0   4819765  1611065220 2021-01-19 15:07:00"
      ]
     },
     "metadata": {},
     "output_type": "display_data"
    },
    {
     "data": {
      "text/html": [
       "<div>\n",
       "<style scoped>\n",
       "    .dataframe tbody tr th:only-of-type {\n",
       "        vertical-align: middle;\n",
       "    }\n",
       "\n",
       "    .dataframe tbody tr th {\n",
       "        vertical-align: top;\n",
       "    }\n",
       "\n",
       "    .dataframe thead th {\n",
       "        text-align: right;\n",
       "    }\n",
       "</style>\n",
       "<table border=\"1\" class=\"dataframe\">\n",
       "  <thead>\n",
       "    <tr style=\"text-align: right;\">\n",
       "      <th></th>\n",
       "      <th>source</th>\n",
       "      <th>target</th>\n",
       "      <th>amount</th>\n",
       "      <th>timestamp</th>\n",
       "      <th>Date</th>\n",
       "    </tr>\n",
       "  </thead>\n",
       "  <tbody>\n",
       "    <tr>\n",
       "      <th>187</th>\n",
       "      <td>41</td>\n",
       "      <td>0</td>\n",
       "      <td>12468200</td>\n",
       "      <td>1609677923</td>\n",
       "      <td>2021-01-03 13:45:23</td>\n",
       "    </tr>\n",
       "    <tr>\n",
       "      <th>7869</th>\n",
       "      <td>41</td>\n",
       "      <td>19</td>\n",
       "      <td>5553000</td>\n",
       "      <td>1610977934</td>\n",
       "      <td>2021-01-18 14:52:14</td>\n",
       "    </tr>\n",
       "    <tr>\n",
       "      <th>7868</th>\n",
       "      <td>19</td>\n",
       "      <td>0</td>\n",
       "      <td>5547079</td>\n",
       "      <td>1610978026</td>\n",
       "      <td>2021-01-18 14:53:46</td>\n",
       "    </tr>\n",
       "  </tbody>\n",
       "</table>\n",
       "</div>"
      ],
      "text/plain": [
       "     source target    amount   timestamp                Date\n",
       "187      41      0  12468200  1609677923 2021-01-03 13:45:23\n",
       "7869     41     19   5553000  1610977934 2021-01-18 14:52:14\n",
       "7868     19      0   5547079  1610978026 2021-01-18 14:53:46"
      ]
     },
     "metadata": {},
     "output_type": "display_data"
    }
   ],
   "source": [
    "for path in forw_paths2:\n",
    "    display(path)"
   ]
  },
  {
   "cell_type": "code",
   "execution_count": null,
   "metadata": {},
   "outputs": [],
   "source": []
  }
 ],
 "metadata": {
  "kernelspec": {
   "display_name": "Python 3",
   "language": "python",
   "name": "python3"
  },
  "language_info": {
   "codemirror_mode": {
    "name": "ipython",
    "version": 3
   },
   "file_extension": ".py",
   "mimetype": "text/x-python",
   "name": "python",
   "nbconvert_exporter": "python",
   "pygments_lexer": "ipython3",
   "version": "3.6.9"
  }
 },
 "nbformat": 4,
 "nbformat_minor": 4
}
